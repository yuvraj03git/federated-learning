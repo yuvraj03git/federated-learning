{
  "nbformat": 4,
  "nbformat_minor": 0,
  "metadata": {
    "colab": {
      "provenance": []
    },
    "kernelspec": {
      "name": "python3",
      "display_name": "Python 3"
    },
    "language_info": {
      "name": "python"
    }
  },
  "cells": [
    {
      "cell_type": "markdown",
      "source": [
        "# **Breast Cancer Diagnostic using Federated Learning setting**"
      ],
      "metadata": {
        "id": "KT-STIX9GSIG"
      }
    },
    {
      "cell_type": "markdown",
      "source": [
        "\n",
        "##Import the Libraries"
      ],
      "metadata": {
        "id": "Vw9aULjiHQup"
      }
    },
    {
      "cell_type": "code",
      "source": [
        "!pip install syft==0.2.9"
      ],
      "metadata": {
        "colab": {
          "base_uri": "https://localhost:8080/"
        },
        "id": "YbuGKQORP8vR",
        "outputId": "8a3ecb61-423d-4fdc-a572-c1de30df50c2"
      },
      "execution_count": null,
      "outputs": [
        {
          "output_type": "stream",
          "name": "stdout",
          "text": [
            "Requirement already satisfied: syft==0.2.9 in /usr/local/lib/python3.7/dist-packages (0.2.9)\n",
            "Requirement already satisfied: websockets~=8.1.0 in /usr/local/lib/python3.7/dist-packages (from syft==0.2.9) (8.1)\n",
            "Requirement already satisfied: tornado==4.5.3 in /usr/local/lib/python3.7/dist-packages (from syft==0.2.9) (4.5.3)\n",
            "Requirement already satisfied: lz4~=3.0.2 in /usr/local/lib/python3.7/dist-packages (from syft==0.2.9) (3.0.2)\n",
            "Requirement already satisfied: phe~=1.4.0 in /usr/local/lib/python3.7/dist-packages (from syft==0.2.9) (1.4.0)\n",
            "Requirement already satisfied: flask-socketio~=4.2.1 in /usr/local/lib/python3.7/dist-packages (from syft==0.2.9) (4.2.1)\n",
            "Requirement already satisfied: aiortc==0.9.28 in /usr/local/lib/python3.7/dist-packages (from syft==0.2.9) (0.9.28)\n",
            "Requirement already satisfied: dill~=0.3.1 in /usr/local/lib/python3.7/dist-packages (from syft==0.2.9) (0.3.4)\n",
            "Requirement already satisfied: psutil==5.7.0 in /usr/local/lib/python3.7/dist-packages (from syft==0.2.9) (5.7.0)\n",
            "Requirement already satisfied: websocket-client~=0.57.0 in /usr/local/lib/python3.7/dist-packages (from syft==0.2.9) (0.57.0)\n",
            "Requirement already satisfied: importlib-resources~=1.5.0 in /usr/local/lib/python3.7/dist-packages (from syft==0.2.9) (1.5.0)\n",
            "Requirement already satisfied: msgpack~=1.0.0 in /usr/local/lib/python3.7/dist-packages (from syft==0.2.9) (1.0.3)\n",
            "Requirement already satisfied: torchvision~=0.5.0 in /usr/local/lib/python3.7/dist-packages (from syft==0.2.9) (0.5.0)\n",
            "Requirement already satisfied: Flask~=1.1.1 in /usr/local/lib/python3.7/dist-packages (from syft==0.2.9) (1.1.4)\n",
            "Requirement already satisfied: notebook==5.7.8 in /usr/local/lib/python3.7/dist-packages (from syft==0.2.9) (5.7.8)\n",
            "Requirement already satisfied: RestrictedPython~=5.0 in /usr/local/lib/python3.7/dist-packages (from syft==0.2.9) (5.2)\n",
            "Requirement already satisfied: syft-proto~=0.5.2 in /usr/local/lib/python3.7/dist-packages (from syft==0.2.9) (0.5.3)\n",
            "Requirement already satisfied: tblib~=1.6.0 in /usr/local/lib/python3.7/dist-packages (from syft==0.2.9) (1.6.0)\n",
            "Requirement already satisfied: shaloop==0.2.1-alpha.11 in /usr/local/lib/python3.7/dist-packages (from syft==0.2.9) (0.2.1a11)\n",
            "Requirement already satisfied: requests-toolbelt==0.9.1 in /usr/local/lib/python3.7/dist-packages (from syft==0.2.9) (0.9.1)\n",
            "Requirement already satisfied: Pillow>=7.1.0 in /usr/local/lib/python3.7/dist-packages (from syft==0.2.9) (7.1.2)\n",
            "Requirement already satisfied: torch~=1.4.0 in /usr/local/lib/python3.7/dist-packages (from syft==0.2.9) (1.4.0)\n",
            "Requirement already satisfied: openmined.threepio==0.2.0 in /usr/local/lib/python3.7/dist-packages (from syft==0.2.9) (0.2.0)\n",
            "Requirement already satisfied: numpy~=1.18.1 in /usr/local/lib/python3.7/dist-packages (from syft==0.2.9) (1.18.5)\n",
            "Requirement already satisfied: scipy~=1.4.1 in /usr/local/lib/python3.7/dist-packages (from syft==0.2.9) (1.4.1)\n",
            "Requirement already satisfied: requests~=2.22.0 in /usr/local/lib/python3.7/dist-packages (from syft==0.2.9) (2.22.0)\n",
            "Requirement already satisfied: cryptography>=2.2 in /usr/local/lib/python3.7/dist-packages (from aiortc==0.9.28->syft==0.2.9) (37.0.1)\n",
            "Requirement already satisfied: cffi>=1.0.0 in /usr/local/lib/python3.7/dist-packages (from aiortc==0.9.28->syft==0.2.9) (1.15.0)\n",
            "Requirement already satisfied: crc32c in /usr/local/lib/python3.7/dist-packages (from aiortc==0.9.28->syft==0.2.9) (2.2.post0)\n",
            "Requirement already satisfied: aioice<0.7.0,>=0.6.17 in /usr/local/lib/python3.7/dist-packages (from aiortc==0.9.28->syft==0.2.9) (0.6.18)\n",
            "Requirement already satisfied: pyee>=6.0.0 in /usr/local/lib/python3.7/dist-packages (from aiortc==0.9.28->syft==0.2.9) (9.0.4)\n",
            "Requirement already satisfied: pylibsrtp>=0.5.6 in /usr/local/lib/python3.7/dist-packages (from aiortc==0.9.28->syft==0.2.9) (0.7.1)\n",
            "Requirement already satisfied: av<9.0.0,>=8.0.0 in /usr/local/lib/python3.7/dist-packages (from aiortc==0.9.28->syft==0.2.9) (8.1.0)\n",
            "Requirement already satisfied: terminado>=0.8.1 in /usr/local/lib/python3.7/dist-packages (from notebook==5.7.8->syft==0.2.9) (0.13.3)\n",
            "Requirement already satisfied: ipykernel in /usr/local/lib/python3.7/dist-packages (from notebook==5.7.8->syft==0.2.9) (4.10.1)\n",
            "Requirement already satisfied: Send2Trash in /usr/local/lib/python3.7/dist-packages (from notebook==5.7.8->syft==0.2.9) (1.8.0)\n",
            "Requirement already satisfied: jupyter-client>=5.2.0 in /usr/local/lib/python3.7/dist-packages (from notebook==5.7.8->syft==0.2.9) (5.3.5)\n",
            "Requirement already satisfied: prometheus-client in /usr/local/lib/python3.7/dist-packages (from notebook==5.7.8->syft==0.2.9) (0.14.1)\n",
            "Requirement already satisfied: nbconvert in /usr/local/lib/python3.7/dist-packages (from notebook==5.7.8->syft==0.2.9) (5.6.1)\n",
            "Requirement already satisfied: ipython-genutils in /usr/local/lib/python3.7/dist-packages (from notebook==5.7.8->syft==0.2.9) (0.2.0)\n",
            "Requirement already satisfied: nbformat in /usr/local/lib/python3.7/dist-packages (from notebook==5.7.8->syft==0.2.9) (5.3.0)\n",
            "Requirement already satisfied: traitlets>=4.2.1 in /usr/local/lib/python3.7/dist-packages (from notebook==5.7.8->syft==0.2.9) (5.1.1)\n",
            "Requirement already satisfied: jinja2 in /usr/local/lib/python3.7/dist-packages (from notebook==5.7.8->syft==0.2.9) (2.11.3)\n",
            "Requirement already satisfied: pyzmq>=17 in /usr/local/lib/python3.7/dist-packages (from notebook==5.7.8->syft==0.2.9) (22.3.0)\n",
            "Requirement already satisfied: jupyter-core>=4.4.0 in /usr/local/lib/python3.7/dist-packages (from notebook==5.7.8->syft==0.2.9) (4.10.0)\n",
            "Requirement already satisfied: pycparser>=2 in /usr/local/lib/python3.7/dist-packages (from shaloop==0.2.1-alpha.11->syft==0.2.9) (2.21)\n",
            "Requirement already satisfied: netifaces in /usr/local/lib/python3.7/dist-packages (from aioice<0.7.0,>=0.6.17->aiortc==0.9.28->syft==0.2.9) (0.11.0)\n",
            "Requirement already satisfied: itsdangerous<2.0,>=0.24 in /usr/local/lib/python3.7/dist-packages (from Flask~=1.1.1->syft==0.2.9) (1.1.0)\n",
            "Requirement already satisfied: click<8.0,>=5.1 in /usr/local/lib/python3.7/dist-packages (from Flask~=1.1.1->syft==0.2.9) (7.1.2)\n",
            "Requirement already satisfied: Werkzeug<2.0,>=0.15 in /usr/local/lib/python3.7/dist-packages (from Flask~=1.1.1->syft==0.2.9) (1.0.1)\n",
            "Requirement already satisfied: python-socketio>=4.3.0 in /usr/local/lib/python3.7/dist-packages (from flask-socketio~=4.2.1->syft==0.2.9) (5.6.0)\n",
            "Requirement already satisfied: importlib-metadata in /usr/local/lib/python3.7/dist-packages (from importlib-resources~=1.5.0->syft==0.2.9) (4.11.3)\n",
            "Requirement already satisfied: zipp>=0.4 in /usr/local/lib/python3.7/dist-packages (from importlib-resources~=1.5.0->syft==0.2.9) (3.8.0)\n",
            "Requirement already satisfied: MarkupSafe>=0.23 in /usr/local/lib/python3.7/dist-packages (from jinja2->notebook==5.7.8->syft==0.2.9) (2.0.1)\n",
            "Requirement already satisfied: python-dateutil>=2.1 in /usr/local/lib/python3.7/dist-packages (from jupyter-client>=5.2.0->notebook==5.7.8->syft==0.2.9) (2.8.2)\n",
            "Requirement already satisfied: typing-extensions in /usr/local/lib/python3.7/dist-packages (from pyee>=6.0.0->aiortc==0.9.28->syft==0.2.9) (4.2.0)\n",
            "Requirement already satisfied: six>=1.5 in /usr/local/lib/python3.7/dist-packages (from python-dateutil>=2.1->jupyter-client>=5.2.0->notebook==5.7.8->syft==0.2.9) (1.15.0)\n",
            "Requirement already satisfied: bidict>=0.21.0 in /usr/local/lib/python3.7/dist-packages (from python-socketio>=4.3.0->flask-socketio~=4.2.1->syft==0.2.9) (0.22.0)\n",
            "Requirement already satisfied: python-engineio>=4.3.0 in /usr/local/lib/python3.7/dist-packages (from python-socketio>=4.3.0->flask-socketio~=4.2.1->syft==0.2.9) (4.3.2)\n",
            "Requirement already satisfied: urllib3!=1.25.0,!=1.25.1,<1.26,>=1.21.1 in /usr/local/lib/python3.7/dist-packages (from requests~=2.22.0->syft==0.2.9) (1.24.3)\n",
            "Requirement already satisfied: chardet<3.1.0,>=3.0.2 in /usr/local/lib/python3.7/dist-packages (from requests~=2.22.0->syft==0.2.9) (3.0.4)\n",
            "Requirement already satisfied: certifi>=2017.4.17 in /usr/local/lib/python3.7/dist-packages (from requests~=2.22.0->syft==0.2.9) (2021.10.8)\n",
            "Requirement already satisfied: idna<2.9,>=2.5 in /usr/local/lib/python3.7/dist-packages (from requests~=2.22.0->syft==0.2.9) (2.8)\n",
            "Requirement already satisfied: protobuf>=3.12.2 in /usr/local/lib/python3.7/dist-packages (from syft-proto~=0.5.2->syft==0.2.9) (3.17.3)\n",
            "Requirement already satisfied: ptyprocess in /usr/local/lib/python3.7/dist-packages (from terminado>=0.8.1->notebook==5.7.8->syft==0.2.9) (0.7.0)\n",
            "Requirement already satisfied: ipython>=4.0.0 in /usr/local/lib/python3.7/dist-packages (from ipykernel->notebook==5.7.8->syft==0.2.9) (5.5.0)\n",
            "Requirement already satisfied: setuptools>=18.5 in /usr/local/lib/python3.7/dist-packages (from ipython>=4.0.0->ipykernel->notebook==5.7.8->syft==0.2.9) (57.4.0)\n",
            "Requirement already satisfied: pickleshare in /usr/local/lib/python3.7/dist-packages (from ipython>=4.0.0->ipykernel->notebook==5.7.8->syft==0.2.9) (0.7.5)\n",
            "Requirement already satisfied: prompt-toolkit<2.0.0,>=1.0.4 in /usr/local/lib/python3.7/dist-packages (from ipython>=4.0.0->ipykernel->notebook==5.7.8->syft==0.2.9) (1.0.18)\n",
            "Requirement already satisfied: decorator in /usr/local/lib/python3.7/dist-packages (from ipython>=4.0.0->ipykernel->notebook==5.7.8->syft==0.2.9) (4.4.2)\n",
            "Requirement already satisfied: simplegeneric>0.8 in /usr/local/lib/python3.7/dist-packages (from ipython>=4.0.0->ipykernel->notebook==5.7.8->syft==0.2.9) (0.8.1)\n",
            "Requirement already satisfied: pygments in /usr/local/lib/python3.7/dist-packages (from ipython>=4.0.0->ipykernel->notebook==5.7.8->syft==0.2.9) (2.6.1)\n",
            "Requirement already satisfied: pexpect in /usr/local/lib/python3.7/dist-packages (from ipython>=4.0.0->ipykernel->notebook==5.7.8->syft==0.2.9) (4.8.0)\n",
            "Requirement already satisfied: wcwidth in /usr/local/lib/python3.7/dist-packages (from prompt-toolkit<2.0.0,>=1.0.4->ipython>=4.0.0->ipykernel->notebook==5.7.8->syft==0.2.9) (0.2.5)\n",
            "Requirement already satisfied: defusedxml in /usr/local/lib/python3.7/dist-packages (from nbconvert->notebook==5.7.8->syft==0.2.9) (0.7.1)\n",
            "Requirement already satisfied: testpath in /usr/local/lib/python3.7/dist-packages (from nbconvert->notebook==5.7.8->syft==0.2.9) (0.6.0)\n",
            "Requirement already satisfied: pandocfilters>=1.4.1 in /usr/local/lib/python3.7/dist-packages (from nbconvert->notebook==5.7.8->syft==0.2.9) (1.5.0)\n",
            "Requirement already satisfied: entrypoints>=0.2.2 in /usr/local/lib/python3.7/dist-packages (from nbconvert->notebook==5.7.8->syft==0.2.9) (0.4)\n",
            "Requirement already satisfied: bleach in /usr/local/lib/python3.7/dist-packages (from nbconvert->notebook==5.7.8->syft==0.2.9) (5.0.0)\n",
            "Requirement already satisfied: mistune<2,>=0.8.1 in /usr/local/lib/python3.7/dist-packages (from nbconvert->notebook==5.7.8->syft==0.2.9) (0.8.4)\n",
            "Requirement already satisfied: jsonschema>=2.6 in /usr/local/lib/python3.7/dist-packages (from nbformat->notebook==5.7.8->syft==0.2.9) (4.3.3)\n",
            "Requirement already satisfied: fastjsonschema in /usr/local/lib/python3.7/dist-packages (from nbformat->notebook==5.7.8->syft==0.2.9) (2.15.3)\n",
            "Requirement already satisfied: pyrsistent!=0.17.0,!=0.17.1,!=0.17.2,>=0.14.0 in /usr/local/lib/python3.7/dist-packages (from jsonschema>=2.6->nbformat->notebook==5.7.8->syft==0.2.9) (0.18.1)\n",
            "Requirement already satisfied: attrs>=17.4.0 in /usr/local/lib/python3.7/dist-packages (from jsonschema>=2.6->nbformat->notebook==5.7.8->syft==0.2.9) (21.4.0)\n",
            "Requirement already satisfied: webencodings in /usr/local/lib/python3.7/dist-packages (from bleach->nbconvert->notebook==5.7.8->syft==0.2.9) (0.5.1)\n"
          ]
        }
      ]
    },
    {
      "cell_type": "code",
      "source": [
        "import numpy as np\n",
        "import pandas as pd\n",
        "import matplotlib.pyplot as plt\n",
        "import seaborn as sns\n",
        "import warnings\n",
        "warnings.filterwarnings('ignore')\n"
      ],
      "metadata": {
        "id": "1NU1X8H9Hq1O"
      },
      "execution_count": null,
      "outputs": []
    },
    {
      "cell_type": "markdown",
      "source": [
        "## Downloading the Data from Kaggle\n",
        "\n",
        "Here we connect to kaggle using kaggle.json to download the relevant dataset from kaggle directly into colab. Please make sure to generate and save kaggle.json prior to running this cell. As this will prompt you to upload kaggle.json file.\n"
      ],
      "metadata": {
        "id": "EYgfUpMFHfd1"
      }
    },
    {
      "cell_type": "code",
      "execution_count": null,
      "metadata": {
        "id": "TvTXsgJ7GPjF"
      },
      "outputs": [],
      "source": [
        " ! pip install -q kaggle\n"
      ]
    },
    {
      "cell_type": "code",
      "source": [
        "from google.colab import files\n",
        "files.upload()\n"
      ],
      "metadata": {
        "colab": {
          "resources": {
            "http://localhost:8080/nbextensions/google.colab/files.js": {
              "data": "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",
              "ok": true,
              "headers": [
                [
                  "content-type",
                  "application/javascript"
                ]
              ],
              "status": 200,
              "status_text": ""
            }
          },
          "base_uri": "https://localhost:8080/",
          "height": 90
        },
        "id": "cWnB6xAjGteL",
        "outputId": "8013aa80-b9ec-4675-d395-dcebd81a8fc2"
      },
      "execution_count": null,
      "outputs": [
        {
          "output_type": "display_data",
          "data": {
            "text/plain": [
              "<IPython.core.display.HTML object>"
            ],
            "text/html": [
              "\n",
              "     <input type=\"file\" id=\"files-8d1d9e1b-3d27-47e3-b85c-743aa720761b\" name=\"files[]\" multiple disabled\n",
              "        style=\"border:none\" />\n",
              "     <output id=\"result-8d1d9e1b-3d27-47e3-b85c-743aa720761b\">\n",
              "      Upload widget is only available when the cell has been executed in the\n",
              "      current browser session. Please rerun this cell to enable.\n",
              "      </output>\n",
              "      <script src=\"/nbextensions/google.colab/files.js\"></script> "
            ]
          },
          "metadata": {}
        },
        {
          "output_type": "stream",
          "name": "stdout",
          "text": [
            "Saving kaggle.json to kaggle.json\n"
          ]
        },
        {
          "output_type": "execute_result",
          "data": {
            "text/plain": [
              "{'kaggle.json': b'{\"username\":\"vaibhav1207\",\"key\":\"2cb828272ec004d323220c53b8d47f75\"}'}"
            ]
          },
          "metadata": {},
          "execution_count": 4
        }
      ]
    },
    {
      "cell_type": "code",
      "source": [
        "! mkdir ~/.kaggle"
      ],
      "metadata": {
        "id": "mqlU5HVHGv_z"
      },
      "execution_count": null,
      "outputs": []
    },
    {
      "cell_type": "code",
      "source": [
        "! cp kaggle.json ~/.kaggle/"
      ],
      "metadata": {
        "id": "90xLdljsG3w8"
      },
      "execution_count": null,
      "outputs": []
    },
    {
      "cell_type": "code",
      "source": [
        "! chmod 600 ~/.kaggle/kaggle.json"
      ],
      "metadata": {
        "id": "w_zwbWGxG55P"
      },
      "execution_count": null,
      "outputs": []
    },
    {
      "cell_type": "code",
      "source": [
        " ! kaggle datasets list"
      ],
      "metadata": {
        "colab": {
          "base_uri": "https://localhost:8080/"
        },
        "id": "o7IjNVctG7-x",
        "outputId": "25600af5-7716-4ab6-c146-4e2902e162e9"
      },
      "execution_count": null,
      "outputs": [
        {
          "output_type": "stream",
          "name": "stdout",
          "text": [
            "ref                                                                            title                                             size  lastUpdated          downloadCount  voteCount  usabilityRating  \n",
            "-----------------------------------------------------------------------------  -----------------------------------------------  -----  -------------------  -------------  ---------  ---------------  \n",
            "datasets/piterfm/2022-ukraine-russian-war                                      2022 Ukraine Russia War                            2KB  2022-04-27 08:05:38          12257        663  1.0              \n",
            "datasets/muratkokludataset/acoustic-extinguisher-fire-dataset                  Acoustic Extinguisher Fire Dataset               621KB  2022-04-02 22:59:36            426        441  0.9375           \n",
            "datasets/muhmores/spotify-top-100-songs-of-20152019                            Spotify Top 100 Songs of 2010-2019               139KB  2022-04-09 06:35:36           2322         53  0.8235294        \n",
            "datasets/muratkokludataset/rice-image-dataset                                  Rice Image Dataset                               219MB  2022-04-03 02:12:00            362        413  0.875            \n",
            "datasets/muratkokludataset/pistachio-dataset                                   Pistachio Dataset                                  2MB  2022-04-03 08:38:21            287        381  0.9375           \n",
            "datasets/muratkokludataset/raisin-dataset                                      Raisin Dataset                                   112KB  2022-04-03 00:23:16            216        358  0.9375           \n",
            "datasets/mdmahmudulhasansuzan/students-adaptability-level-in-online-education  Students Adaptability Level in Online Education    6KB  2022-04-16 04:46:28           1719         54  1.0              \n",
            "datasets/muratkokludataset/pistachio-image-dataset                             Pistachio Image Dataset                           27MB  2022-03-28 18:01:27            159        409  0.9375           \n",
            "datasets/aslanahmedov/walmart-sales-forecast                                   Walmart Sales Forecast                             3MB  2022-04-21 05:28:20            880         33  1.0              \n",
            "datasets/fedesoriano/wind-speed-prediction-dataset                             Wind Speed Prediction Dataset                     72KB  2022-04-20 17:53:43            374         31  1.0              \n",
            "datasets/rinichristy/2022-fuel-consumption-ratings                             2022 Fuel Consumption Ratings                     13KB  2022-04-06 14:41:35           1554         29  1.0              \n",
            "datasets/muratkokludataset/dry-bean-dataset                                    Dry Bean Dataset                                   5MB  2022-04-02 23:19:30            156        365  0.875            \n",
            "datasets/muratkokludataset/durum-wheat-dataset                                 Durum Wheat Dataset                              983MB  2022-04-03 00:02:29             45        369  0.875            \n",
            "datasets/muratkokludataset/pumpkin-seeds-dataset                               Pumpkin Seeds Dataset                            393KB  2022-03-28 18:28:16            218        359  0.9375           \n",
            "datasets/muratkokludataset/grapevine-leaves-image-dataset                      Grapevine Leaves Image Dataset                   109MB  2022-04-03 09:00:54             64        395  0.875            \n",
            "datasets/muratkokludataset/rice-dataset-commeo-and-osmancik                    Rice Dataset Commeo and Osmancik                 524KB  2022-04-03 00:40:03             47        349  0.875            \n",
            "datasets/psycon/daily-gold-price-historical-data                               Daily Gold Price Historical Data                  66KB  2022-04-26 19:05:15            851         33  1.0              \n",
            "datasets/xhlulu/cpc-codes                                                      Cooperative Patent Classification Codes Meaning    5MB  2022-03-22 03:04:36           1104        105  1.0              \n",
            "datasets/rinichristy/covid19-coronavirus-pandemic                              COVID-19 Coronavirus Pandemic                      9KB  2022-04-05 08:43:16           1282         32  1.0              \n",
            "datasets/kamilpytlak/personal-key-indicators-of-heart-disease                  Personal Key Indicators of Heart Disease           3MB  2022-02-16 10:18:03          20062        419  1.0              \n"
          ]
        }
      ]
    },
    {
      "cell_type": "code",
      "source": [
        "! kaggle datasets download uciml/breast-cancer-wisconsin-data"
      ],
      "metadata": {
        "colab": {
          "base_uri": "https://localhost:8080/"
        },
        "id": "gCSQwnTHG9-K",
        "outputId": "7e63f4d7-8636-48f5-c3b0-011dcbf28dcb"
      },
      "execution_count": null,
      "outputs": [
        {
          "output_type": "stream",
          "name": "stdout",
          "text": [
            "Downloading breast-cancer-wisconsin-data.zip to /content\n",
            "\r  0% 0.00/48.6k [00:00<?, ?B/s]\n",
            "\r100% 48.6k/48.6k [00:00<00:00, 26.7MB/s]\n"
          ]
        }
      ]
    },
    {
      "cell_type": "code",
      "source": [
        "! unzip breast-cancer-wisconsin-data.zip"
      ],
      "metadata": {
        "colab": {
          "base_uri": "https://localhost:8080/"
        },
        "id": "Nrx_knPiHG7i",
        "outputId": "b355f218-9a72-4370-bdef-4bd630865472"
      },
      "execution_count": null,
      "outputs": [
        {
          "output_type": "stream",
          "name": "stdout",
          "text": [
            "Archive:  breast-cancer-wisconsin-data.zip\n",
            "  inflating: data.csv                \n"
          ]
        }
      ]
    },
    {
      "cell_type": "markdown",
      "source": [
        "This dataset can also be found on UCI Machine Learning Repository: https://archive.ics.uci.edu/ml/datasets/Breast+Cancer+Wisconsin+%28Diagnostic%29\n",
        "\n",
        "Attribute Information:\n",
        "\n",
        "1) ID number\n",
        "2) Diagnosis (M = malignant, B = benign)\n",
        "3-32)\n",
        "\n",
        "Ten real-valued features are computed for each cell nucleus:\n",
        "\n",
        "a) radius (mean of distances from center to points on the perimeter)\n",
        "b) texture (standard deviation of gray-scale values)\n",
        "c) perimeter\n",
        "d) area\n",
        "e) smoothness (local variation in radius lengths)\n",
        "f) compactness (perimeter^2 / area - 1.0)\n",
        "g) concavity (severity of concave portions of the contour)\n",
        "h) concave points (number of concave portions of the contour)\n",
        "i) symmetry\n",
        "j) fractal dimension (\"coastline approximation\" - 1)\n",
        "\n",
        "The mean, standard error and \"worst\" or largest (mean of the three\n",
        "largest values) of these features were computed for each image,\n",
        "resulting in 30 features. For instance, field 3 is Mean Radius, field\n",
        "13 is Radius SE, field 23 is Worst Radius.\n",
        "\n",
        "All feature values are recoded with four significant digits.\n",
        "\n",
        "Missing attribute values: none\n",
        "\n"
      ],
      "metadata": {
        "id": "bq8Dj1k8HZxd"
      }
    },
    {
      "cell_type": "code",
      "source": [
        "df_cancer = pd.read_csv('/content/data.csv')"
      ],
      "metadata": {
        "id": "GO0n2OPzHSBC"
      },
      "execution_count": null,
      "outputs": []
    },
    {
      "cell_type": "code",
      "source": [
        "df_cancer.columns"
      ],
      "metadata": {
        "colab": {
          "base_uri": "https://localhost:8080/"
        },
        "id": "C6HzBzCpHlCE",
        "outputId": "2b855db1-30e6-4ada-cd0a-69be2678c1ac"
      },
      "execution_count": null,
      "outputs": [
        {
          "output_type": "execute_result",
          "data": {
            "text/plain": [
              "Index(['id', 'diagnosis', 'radius_mean', 'texture_mean', 'perimeter_mean',\n",
              "       'area_mean', 'smoothness_mean', 'compactness_mean', 'concavity_mean',\n",
              "       'concave points_mean', 'symmetry_mean', 'fractal_dimension_mean',\n",
              "       'radius_se', 'texture_se', 'perimeter_se', 'area_se', 'smoothness_se',\n",
              "       'compactness_se', 'concavity_se', 'concave points_se', 'symmetry_se',\n",
              "       'fractal_dimension_se', 'radius_worst', 'texture_worst',\n",
              "       'perimeter_worst', 'area_worst', 'smoothness_worst',\n",
              "       'compactness_worst', 'concavity_worst', 'concave points_worst',\n",
              "       'symmetry_worst', 'fractal_dimension_worst', 'Unnamed: 32'],\n",
              "      dtype='object')"
            ]
          },
          "metadata": {},
          "execution_count": 12
        }
      ]
    },
    {
      "cell_type": "code",
      "source": [
        "df_cancer.shape"
      ],
      "metadata": {
        "colab": {
          "base_uri": "https://localhost:8080/"
        },
        "id": "JxW5MKzNHwX1",
        "outputId": "758a14b2-2fa4-4226-e226-eb4330450f3b"
      },
      "execution_count": null,
      "outputs": [
        {
          "output_type": "execute_result",
          "data": {
            "text/plain": [
              "(569, 33)"
            ]
          },
          "metadata": {},
          "execution_count": 13
        }
      ]
    },
    {
      "cell_type": "code",
      "source": [
        "# removing unnecessary columns\n",
        "df_cancer.drop(['Unnamed: 32','id'], inplace = True, axis=1,)"
      ],
      "metadata": {
        "id": "VaghSNRWH15m"
      },
      "execution_count": null,
      "outputs": []
    },
    {
      "cell_type": "code",
      "source": [
        "df_cancer.head()"
      ],
      "metadata": {
        "colab": {
          "base_uri": "https://localhost:8080/",
          "height": 317
        },
        "id": "83WvKZpBH5Ya",
        "outputId": "caf2e5b4-23a4-45d9-dda5-9f8f28ce4815"
      },
      "execution_count": null,
      "outputs": [
        {
          "output_type": "execute_result",
          "data": {
            "text/plain": [
              "  diagnosis  radius_mean  texture_mean  perimeter_mean  area_mean  \\\n",
              "0         M        17.99         10.38          122.80     1001.0   \n",
              "1         M        20.57         17.77          132.90     1326.0   \n",
              "2         M        19.69         21.25          130.00     1203.0   \n",
              "3         M        11.42         20.38           77.58      386.1   \n",
              "4         M        20.29         14.34          135.10     1297.0   \n",
              "\n",
              "   smoothness_mean  compactness_mean  concavity_mean  concave points_mean  \\\n",
              "0          0.11840           0.27760          0.3001              0.14710   \n",
              "1          0.08474           0.07864          0.0869              0.07017   \n",
              "2          0.10960           0.15990          0.1974              0.12790   \n",
              "3          0.14250           0.28390          0.2414              0.10520   \n",
              "4          0.10030           0.13280          0.1980              0.10430   \n",
              "\n",
              "   symmetry_mean  ...  radius_worst  texture_worst  perimeter_worst  \\\n",
              "0         0.2419  ...         25.38          17.33           184.60   \n",
              "1         0.1812  ...         24.99          23.41           158.80   \n",
              "2         0.2069  ...         23.57          25.53           152.50   \n",
              "3         0.2597  ...         14.91          26.50            98.87   \n",
              "4         0.1809  ...         22.54          16.67           152.20   \n",
              "\n",
              "   area_worst  smoothness_worst  compactness_worst  concavity_worst  \\\n",
              "0      2019.0            0.1622             0.6656           0.7119   \n",
              "1      1956.0            0.1238             0.1866           0.2416   \n",
              "2      1709.0            0.1444             0.4245           0.4504   \n",
              "3       567.7            0.2098             0.8663           0.6869   \n",
              "4      1575.0            0.1374             0.2050           0.4000   \n",
              "\n",
              "   concave points_worst  symmetry_worst  fractal_dimension_worst  \n",
              "0                0.2654          0.4601                  0.11890  \n",
              "1                0.1860          0.2750                  0.08902  \n",
              "2                0.2430          0.3613                  0.08758  \n",
              "3                0.2575          0.6638                  0.17300  \n",
              "4                0.1625          0.2364                  0.07678  \n",
              "\n",
              "[5 rows x 31 columns]"
            ],
            "text/html": [
              "\n",
              "  <div id=\"df-1e5959d6-6a8e-4aac-9b63-784f8e86220e\">\n",
              "    <div class=\"colab-df-container\">\n",
              "      <div>\n",
              "<style scoped>\n",
              "    .dataframe tbody tr th:only-of-type {\n",
              "        vertical-align: middle;\n",
              "    }\n",
              "\n",
              "    .dataframe tbody tr th {\n",
              "        vertical-align: top;\n",
              "    }\n",
              "\n",
              "    .dataframe thead th {\n",
              "        text-align: right;\n",
              "    }\n",
              "</style>\n",
              "<table border=\"1\" class=\"dataframe\">\n",
              "  <thead>\n",
              "    <tr style=\"text-align: right;\">\n",
              "      <th></th>\n",
              "      <th>diagnosis</th>\n",
              "      <th>radius_mean</th>\n",
              "      <th>texture_mean</th>\n",
              "      <th>perimeter_mean</th>\n",
              "      <th>area_mean</th>\n",
              "      <th>smoothness_mean</th>\n",
              "      <th>compactness_mean</th>\n",
              "      <th>concavity_mean</th>\n",
              "      <th>concave points_mean</th>\n",
              "      <th>symmetry_mean</th>\n",
              "      <th>...</th>\n",
              "      <th>radius_worst</th>\n",
              "      <th>texture_worst</th>\n",
              "      <th>perimeter_worst</th>\n",
              "      <th>area_worst</th>\n",
              "      <th>smoothness_worst</th>\n",
              "      <th>compactness_worst</th>\n",
              "      <th>concavity_worst</th>\n",
              "      <th>concave points_worst</th>\n",
              "      <th>symmetry_worst</th>\n",
              "      <th>fractal_dimension_worst</th>\n",
              "    </tr>\n",
              "  </thead>\n",
              "  <tbody>\n",
              "    <tr>\n",
              "      <th>0</th>\n",
              "      <td>M</td>\n",
              "      <td>17.99</td>\n",
              "      <td>10.38</td>\n",
              "      <td>122.80</td>\n",
              "      <td>1001.0</td>\n",
              "      <td>0.11840</td>\n",
              "      <td>0.27760</td>\n",
              "      <td>0.3001</td>\n",
              "      <td>0.14710</td>\n",
              "      <td>0.2419</td>\n",
              "      <td>...</td>\n",
              "      <td>25.38</td>\n",
              "      <td>17.33</td>\n",
              "      <td>184.60</td>\n",
              "      <td>2019.0</td>\n",
              "      <td>0.1622</td>\n",
              "      <td>0.6656</td>\n",
              "      <td>0.7119</td>\n",
              "      <td>0.2654</td>\n",
              "      <td>0.4601</td>\n",
              "      <td>0.11890</td>\n",
              "    </tr>\n",
              "    <tr>\n",
              "      <th>1</th>\n",
              "      <td>M</td>\n",
              "      <td>20.57</td>\n",
              "      <td>17.77</td>\n",
              "      <td>132.90</td>\n",
              "      <td>1326.0</td>\n",
              "      <td>0.08474</td>\n",
              "      <td>0.07864</td>\n",
              "      <td>0.0869</td>\n",
              "      <td>0.07017</td>\n",
              "      <td>0.1812</td>\n",
              "      <td>...</td>\n",
              "      <td>24.99</td>\n",
              "      <td>23.41</td>\n",
              "      <td>158.80</td>\n",
              "      <td>1956.0</td>\n",
              "      <td>0.1238</td>\n",
              "      <td>0.1866</td>\n",
              "      <td>0.2416</td>\n",
              "      <td>0.1860</td>\n",
              "      <td>0.2750</td>\n",
              "      <td>0.08902</td>\n",
              "    </tr>\n",
              "    <tr>\n",
              "      <th>2</th>\n",
              "      <td>M</td>\n",
              "      <td>19.69</td>\n",
              "      <td>21.25</td>\n",
              "      <td>130.00</td>\n",
              "      <td>1203.0</td>\n",
              "      <td>0.10960</td>\n",
              "      <td>0.15990</td>\n",
              "      <td>0.1974</td>\n",
              "      <td>0.12790</td>\n",
              "      <td>0.2069</td>\n",
              "      <td>...</td>\n",
              "      <td>23.57</td>\n",
              "      <td>25.53</td>\n",
              "      <td>152.50</td>\n",
              "      <td>1709.0</td>\n",
              "      <td>0.1444</td>\n",
              "      <td>0.4245</td>\n",
              "      <td>0.4504</td>\n",
              "      <td>0.2430</td>\n",
              "      <td>0.3613</td>\n",
              "      <td>0.08758</td>\n",
              "    </tr>\n",
              "    <tr>\n",
              "      <th>3</th>\n",
              "      <td>M</td>\n",
              "      <td>11.42</td>\n",
              "      <td>20.38</td>\n",
              "      <td>77.58</td>\n",
              "      <td>386.1</td>\n",
              "      <td>0.14250</td>\n",
              "      <td>0.28390</td>\n",
              "      <td>0.2414</td>\n",
              "      <td>0.10520</td>\n",
              "      <td>0.2597</td>\n",
              "      <td>...</td>\n",
              "      <td>14.91</td>\n",
              "      <td>26.50</td>\n",
              "      <td>98.87</td>\n",
              "      <td>567.7</td>\n",
              "      <td>0.2098</td>\n",
              "      <td>0.8663</td>\n",
              "      <td>0.6869</td>\n",
              "      <td>0.2575</td>\n",
              "      <td>0.6638</td>\n",
              "      <td>0.17300</td>\n",
              "    </tr>\n",
              "    <tr>\n",
              "      <th>4</th>\n",
              "      <td>M</td>\n",
              "      <td>20.29</td>\n",
              "      <td>14.34</td>\n",
              "      <td>135.10</td>\n",
              "      <td>1297.0</td>\n",
              "      <td>0.10030</td>\n",
              "      <td>0.13280</td>\n",
              "      <td>0.1980</td>\n",
              "      <td>0.10430</td>\n",
              "      <td>0.1809</td>\n",
              "      <td>...</td>\n",
              "      <td>22.54</td>\n",
              "      <td>16.67</td>\n",
              "      <td>152.20</td>\n",
              "      <td>1575.0</td>\n",
              "      <td>0.1374</td>\n",
              "      <td>0.2050</td>\n",
              "      <td>0.4000</td>\n",
              "      <td>0.1625</td>\n",
              "      <td>0.2364</td>\n",
              "      <td>0.07678</td>\n",
              "    </tr>\n",
              "  </tbody>\n",
              "</table>\n",
              "<p>5 rows × 31 columns</p>\n",
              "</div>\n",
              "      <button class=\"colab-df-convert\" onclick=\"convertToInteractive('df-1e5959d6-6a8e-4aac-9b63-784f8e86220e')\"\n",
              "              title=\"Convert this dataframe to an interactive table.\"\n",
              "              style=\"display:none;\">\n",
              "        \n",
              "  <svg xmlns=\"http://www.w3.org/2000/svg\" height=\"24px\"viewBox=\"0 0 24 24\"\n",
              "       width=\"24px\">\n",
              "    <path d=\"M0 0h24v24H0V0z\" fill=\"none\"/>\n",
              "    <path d=\"M18.56 5.44l.94 2.06.94-2.06 2.06-.94-2.06-.94-.94-2.06-.94 2.06-2.06.94zm-11 1L8.5 8.5l.94-2.06 2.06-.94-2.06-.94L8.5 2.5l-.94 2.06-2.06.94zm10 10l.94 2.06.94-2.06 2.06-.94-2.06-.94-.94-2.06-.94 2.06-2.06.94z\"/><path d=\"M17.41 7.96l-1.37-1.37c-.4-.4-.92-.59-1.43-.59-.52 0-1.04.2-1.43.59L10.3 9.45l-7.72 7.72c-.78.78-.78 2.05 0 2.83L4 21.41c.39.39.9.59 1.41.59.51 0 1.02-.2 1.41-.59l7.78-7.78 2.81-2.81c.8-.78.8-2.07 0-2.86zM5.41 20L4 18.59l7.72-7.72 1.47 1.35L5.41 20z\"/>\n",
              "  </svg>\n",
              "      </button>\n",
              "      \n",
              "  <style>\n",
              "    .colab-df-container {\n",
              "      display:flex;\n",
              "      flex-wrap:wrap;\n",
              "      gap: 12px;\n",
              "    }\n",
              "\n",
              "    .colab-df-convert {\n",
              "      background-color: #E8F0FE;\n",
              "      border: none;\n",
              "      border-radius: 50%;\n",
              "      cursor: pointer;\n",
              "      display: none;\n",
              "      fill: #1967D2;\n",
              "      height: 32px;\n",
              "      padding: 0 0 0 0;\n",
              "      width: 32px;\n",
              "    }\n",
              "\n",
              "    .colab-df-convert:hover {\n",
              "      background-color: #E2EBFA;\n",
              "      box-shadow: 0px 1px 2px rgba(60, 64, 67, 0.3), 0px 1px 3px 1px rgba(60, 64, 67, 0.15);\n",
              "      fill: #174EA6;\n",
              "    }\n",
              "\n",
              "    [theme=dark] .colab-df-convert {\n",
              "      background-color: #3B4455;\n",
              "      fill: #D2E3FC;\n",
              "    }\n",
              "\n",
              "    [theme=dark] .colab-df-convert:hover {\n",
              "      background-color: #434B5C;\n",
              "      box-shadow: 0px 1px 3px 1px rgba(0, 0, 0, 0.15);\n",
              "      filter: drop-shadow(0px 1px 2px rgba(0, 0, 0, 0.3));\n",
              "      fill: #FFFFFF;\n",
              "    }\n",
              "  </style>\n",
              "\n",
              "      <script>\n",
              "        const buttonEl =\n",
              "          document.querySelector('#df-1e5959d6-6a8e-4aac-9b63-784f8e86220e button.colab-df-convert');\n",
              "        buttonEl.style.display =\n",
              "          google.colab.kernel.accessAllowed ? 'block' : 'none';\n",
              "\n",
              "        async function convertToInteractive(key) {\n",
              "          const element = document.querySelector('#df-1e5959d6-6a8e-4aac-9b63-784f8e86220e');\n",
              "          const dataTable =\n",
              "            await google.colab.kernel.invokeFunction('convertToInteractive',\n",
              "                                                     [key], {});\n",
              "          if (!dataTable) return;\n",
              "\n",
              "          const docLinkHtml = 'Like what you see? Visit the ' +\n",
              "            '<a target=\"_blank\" href=https://colab.research.google.com/notebooks/data_table.ipynb>data table notebook</a>'\n",
              "            + ' to learn more about interactive tables.';\n",
              "          element.innerHTML = '';\n",
              "          dataTable['output_type'] = 'display_data';\n",
              "          await google.colab.output.renderOutput(dataTable, element);\n",
              "          const docLink = document.createElement('div');\n",
              "          docLink.innerHTML = docLinkHtml;\n",
              "          element.appendChild(docLink);\n",
              "        }\n",
              "      </script>\n",
              "    </div>\n",
              "  </div>\n",
              "  "
            ]
          },
          "metadata": {},
          "execution_count": 15
        }
      ]
    },
    {
      "cell_type": "code",
      "source": [
        "# counting the number of labels\n",
        "_ = sns.countplot(df_cancer.diagnosis,label=\"Count\")\n",
        "B, M = df_cancer.diagnosis.value_counts()\n",
        "print('Number of Benign: ',B)\n",
        "print('Number of Malignant : ',M)"
      ],
      "metadata": {
        "colab": {
          "base_uri": "https://localhost:8080/",
          "height": 314
        },
        "id": "BLlevArnH7tQ",
        "outputId": "0c343478-cf33-4897-d116-299bebb62bb6"
      },
      "execution_count": null,
      "outputs": [
        {
          "output_type": "stream",
          "name": "stdout",
          "text": [
            "Number of Benign:  357\n",
            "Number of Malignant :  212\n"
          ]
        },
        {
          "output_type": "display_data",
          "data": {
            "text/plain": [
              "<Figure size 432x288 with 1 Axes>"
            ],
            "image/png": "[encoded data removed]"
          },
          "metadata": {
            "needs_background": "light"
          }
        }
      ]
    },
    {
      "cell_type": "markdown",
      "source": [
        "Class distribution: 357 benign, 212 malignant"
      ],
      "metadata": {
        "id": "GkyTgO2ZH6vm"
      }
    },
    {
      "cell_type": "code",
      "source": [
        "# mapping labels\n",
        "df_cancer['diagnosis']=df_cancer['diagnosis'].map({'M':1,'B':0})"
      ],
      "metadata": {
        "id": "aLlmXY83IAZb"
      },
      "execution_count": null,
      "outputs": []
    },
    {
      "cell_type": "code",
      "source": [
        "df_cancer.head()"
      ],
      "metadata": {
        "colab": {
          "base_uri": "https://localhost:8080/",
          "height": 317
        },
        "id": "yrXiN4gGIFtJ",
        "outputId": "9570c6a9-ce2a-42ba-abd6-b69e82445110"
      },
      "execution_count": null,
      "outputs": [
        {
          "output_type": "execute_result",
          "data": {
            "text/plain": [
              "   diagnosis  radius_mean  texture_mean  perimeter_mean  area_mean  \\\n",
              "0          1        17.99         10.38          122.80     1001.0   \n",
              "1          1        20.57         17.77          132.90     1326.0   \n",
              "2          1        19.69         21.25          130.00     1203.0   \n",
              "3          1        11.42         20.38           77.58      386.1   \n",
              "4          1        20.29         14.34          135.10     1297.0   \n",
              "\n",
              "   smoothness_mean  compactness_mean  concavity_mean  concave points_mean  \\\n",
              "0          0.11840           0.27760          0.3001              0.14710   \n",
              "1          0.08474           0.07864          0.0869              0.07017   \n",
              "2          0.10960           0.15990          0.1974              0.12790   \n",
              "3          0.14250           0.28390          0.2414              0.10520   \n",
              "4          0.10030           0.13280          0.1980              0.10430   \n",
              "\n",
              "   symmetry_mean  ...  radius_worst  texture_worst  perimeter_worst  \\\n",
              "0         0.2419  ...         25.38          17.33           184.60   \n",
              "1         0.1812  ...         24.99          23.41           158.80   \n",
              "2         0.2069  ...         23.57          25.53           152.50   \n",
              "3         0.2597  ...         14.91          26.50            98.87   \n",
              "4         0.1809  ...         22.54          16.67           152.20   \n",
              "\n",
              "   area_worst  smoothness_worst  compactness_worst  concavity_worst  \\\n",
              "0      2019.0            0.1622             0.6656           0.7119   \n",
              "1      1956.0            0.1238             0.1866           0.2416   \n",
              "2      1709.0            0.1444             0.4245           0.4504   \n",
              "3       567.7            0.2098             0.8663           0.6869   \n",
              "4      1575.0            0.1374             0.2050           0.4000   \n",
              "\n",
              "   concave points_worst  symmetry_worst  fractal_dimension_worst  \n",
              "0                0.2654          0.4601                  0.11890  \n",
              "1                0.1860          0.2750                  0.08902  \n",
              "2                0.2430          0.3613                  0.08758  \n",
              "3                0.2575          0.6638                  0.17300  \n",
              "4                0.1625          0.2364                  0.07678  \n",
              "\n",
              "[5 rows x 31 columns]"
            ],
            "text/html": [
              "\n",
              "  <div id=\"df-58c09ae7-d081-43d0-bcba-67a49fbd31c5\">\n",
              "    <div class=\"colab-df-container\">\n",
              "      <div>\n",
              "<style scoped>\n",
              "    .dataframe tbody tr th:only-of-type {\n",
              "        vertical-align: middle;\n",
              "    }\n",
              "\n",
              "    .dataframe tbody tr th {\n",
              "        vertical-align: top;\n",
              "    }\n",
              "\n",
              "    .dataframe thead th {\n",
              "        text-align: right;\n",
              "    }\n",
              "</style>\n",
              "<table border=\"1\" class=\"dataframe\">\n",
              "  <thead>\n",
              "    <tr style=\"text-align: right;\">\n",
              "      <th></th>\n",
              "      <th>diagnosis</th>\n",
              "      <th>radius_mean</th>\n",
              "      <th>texture_mean</th>\n",
              "      <th>perimeter_mean</th>\n",
              "      <th>area_mean</th>\n",
              "      <th>smoothness_mean</th>\n",
              "      <th>compactness_mean</th>\n",
              "      <th>concavity_mean</th>\n",
              "      <th>concave points_mean</th>\n",
              "      <th>symmetry_mean</th>\n",
              "      <th>...</th>\n",
              "      <th>radius_worst</th>\n",
              "      <th>texture_worst</th>\n",
              "      <th>perimeter_worst</th>\n",
              "      <th>area_worst</th>\n",
              "      <th>smoothness_worst</th>\n",
              "      <th>compactness_worst</th>\n",
              "      <th>concavity_worst</th>\n",
              "      <th>concave points_worst</th>\n",
              "      <th>symmetry_worst</th>\n",
              "      <th>fractal_dimension_worst</th>\n",
              "    </tr>\n",
              "  </thead>\n",
              "  <tbody>\n",
              "    <tr>\n",
              "      <th>0</th>\n",
              "      <td>1</td>\n",
              "      <td>17.99</td>\n",
              "      <td>10.38</td>\n",
              "      <td>122.80</td>\n",
              "      <td>1001.0</td>\n",
              "      <td>0.11840</td>\n",
              "      <td>0.27760</td>\n",
              "      <td>0.3001</td>\n",
              "      <td>0.14710</td>\n",
              "      <td>0.2419</td>\n",
              "      <td>...</td>\n",
              "      <td>25.38</td>\n",
              "      <td>17.33</td>\n",
              "      <td>184.60</td>\n",
              "      <td>2019.0</td>\n",
              "      <td>0.1622</td>\n",
              "      <td>0.6656</td>\n",
              "      <td>0.7119</td>\n",
              "      <td>0.2654</td>\n",
              "      <td>0.4601</td>\n",
              "      <td>0.11890</td>\n",
              "    </tr>\n",
              "    <tr>\n",
              "      <th>1</th>\n",
              "      <td>1</td>\n",
              "      <td>20.57</td>\n",
              "      <td>17.77</td>\n",
              "      <td>132.90</td>\n",
              "      <td>1326.0</td>\n",
              "      <td>0.08474</td>\n",
              "      <td>0.07864</td>\n",
              "      <td>0.0869</td>\n",
              "      <td>0.07017</td>\n",
              "      <td>0.1812</td>\n",
              "      <td>...</td>\n",
              "      <td>24.99</td>\n",
              "      <td>23.41</td>\n",
              "      <td>158.80</td>\n",
              "      <td>1956.0</td>\n",
              "      <td>0.1238</td>\n",
              "      <td>0.1866</td>\n",
              "      <td>0.2416</td>\n",
              "      <td>0.1860</td>\n",
              "      <td>0.2750</td>\n",
              "      <td>0.08902</td>\n",
              "    </tr>\n",
              "    <tr>\n",
              "      <th>2</th>\n",
              "      <td>1</td>\n",
              "      <td>19.69</td>\n",
              "      <td>21.25</td>\n",
              "      <td>130.00</td>\n",
              "      <td>1203.0</td>\n",
              "      <td>0.10960</td>\n",
              "      <td>0.15990</td>\n",
              "      <td>0.1974</td>\n",
              "      <td>0.12790</td>\n",
              "      <td>0.2069</td>\n",
              "      <td>...</td>\n",
              "      <td>23.57</td>\n",
              "      <td>25.53</td>\n",
              "      <td>152.50</td>\n",
              "      <td>1709.0</td>\n",
              "      <td>0.1444</td>\n",
              "      <td>0.4245</td>\n",
              "      <td>0.4504</td>\n",
              "      <td>0.2430</td>\n",
              "      <td>0.3613</td>\n",
              "      <td>0.08758</td>\n",
              "    </tr>\n",
              "    <tr>\n",
              "      <th>3</th>\n",
              "      <td>1</td>\n",
              "      <td>11.42</td>\n",
              "      <td>20.38</td>\n",
              "      <td>77.58</td>\n",
              "      <td>386.1</td>\n",
              "      <td>0.14250</td>\n",
              "      <td>0.28390</td>\n",
              "      <td>0.2414</td>\n",
              "      <td>0.10520</td>\n",
              "      <td>0.2597</td>\n",
              "      <td>...</td>\n",
              "      <td>14.91</td>\n",
              "      <td>26.50</td>\n",
              "      <td>98.87</td>\n",
              "      <td>567.7</td>\n",
              "      <td>0.2098</td>\n",
              "      <td>0.8663</td>\n",
              "      <td>0.6869</td>\n",
              "      <td>0.2575</td>\n",
              "      <td>0.6638</td>\n",
              "      <td>0.17300</td>\n",
              "    </tr>\n",
              "    <tr>\n",
              "      <th>4</th>\n",
              "      <td>1</td>\n",
              "      <td>20.29</td>\n",
              "      <td>14.34</td>\n",
              "      <td>135.10</td>\n",
              "      <td>1297.0</td>\n",
              "      <td>0.10030</td>\n",
              "      <td>0.13280</td>\n",
              "      <td>0.1980</td>\n",
              "      <td>0.10430</td>\n",
              "      <td>0.1809</td>\n",
              "      <td>...</td>\n",
              "      <td>22.54</td>\n",
              "      <td>16.67</td>\n",
              "      <td>152.20</td>\n",
              "      <td>1575.0</td>\n",
              "      <td>0.1374</td>\n",
              "      <td>0.2050</td>\n",
              "      <td>0.4000</td>\n",
              "      <td>0.1625</td>\n",
              "      <td>0.2364</td>\n",
              "      <td>0.07678</td>\n",
              "    </tr>\n",
              "  </tbody>\n",
              "</table>\n",
              "<p>5 rows × 31 columns</p>\n",
              "</div>\n",
              "      <button class=\"colab-df-convert\" onclick=\"convertToInteractive('df-58c09ae7-d081-43d0-bcba-67a49fbd31c5')\"\n",
              "              title=\"Convert this dataframe to an interactive table.\"\n",
              "              style=\"display:none;\">\n",
              "        \n",
              "  <svg xmlns=\"http://www.w3.org/2000/svg\" height=\"24px\"viewBox=\"0 0 24 24\"\n",
              "       width=\"24px\">\n",
              "    <path d=\"M0 0h24v24H0V0z\" fill=\"none\"/>\n",
              "    <path d=\"M18.56 5.44l.94 2.06.94-2.06 2.06-.94-2.06-.94-.94-2.06-.94 2.06-2.06.94zm-11 1L8.5 8.5l.94-2.06 2.06-.94-2.06-.94L8.5 2.5l-.94 2.06-2.06.94zm10 10l.94 2.06.94-2.06 2.06-.94-2.06-.94-.94-2.06-.94 2.06-2.06.94z\"/><path d=\"M17.41 7.96l-1.37-1.37c-.4-.4-.92-.59-1.43-.59-.52 0-1.04.2-1.43.59L10.3 9.45l-7.72 7.72c-.78.78-.78 2.05 0 2.83L4 21.41c.39.39.9.59 1.41.59.51 0 1.02-.2 1.41-.59l7.78-7.78 2.81-2.81c.8-.78.8-2.07 0-2.86zM5.41 20L4 18.59l7.72-7.72 1.47 1.35L5.41 20z\"/>\n",
              "  </svg>\n",
              "      </button>\n",
              "      \n",
              "  <style>\n",
              "    .colab-df-container {\n",
              "      display:flex;\n",
              "      flex-wrap:wrap;\n",
              "      gap: 12px;\n",
              "    }\n",
              "\n",
              "    .colab-df-convert {\n",
              "      background-color: #E8F0FE;\n",
              "      border: none;\n",
              "      border-radius: 50%;\n",
              "      cursor: pointer;\n",
              "      display: none;\n",
              "      fill: #1967D2;\n",
              "      height: 32px;\n",
              "      padding: 0 0 0 0;\n",
              "      width: 32px;\n",
              "    }\n",
              "\n",
              "    .colab-df-convert:hover {\n",
              "      background-color: #E2EBFA;\n",
              "      box-shadow: 0px 1px 2px rgba(60, 64, 67, 0.3), 0px 1px 3px 1px rgba(60, 64, 67, 0.15);\n",
              "      fill: #174EA6;\n",
              "    }\n",
              "\n",
              "    [theme=dark] .colab-df-convert {\n",
              "      background-color: #3B4455;\n",
              "      fill: #D2E3FC;\n",
              "    }\n",
              "\n",
              "    [theme=dark] .colab-df-convert:hover {\n",
              "      background-color: #434B5C;\n",
              "      box-shadow: 0px 1px 3px 1px rgba(0, 0, 0, 0.15);\n",
              "      filter: drop-shadow(0px 1px 2px rgba(0, 0, 0, 0.3));\n",
              "      fill: #FFFFFF;\n",
              "    }\n",
              "  </style>\n",
              "\n",
              "      <script>\n",
              "        const buttonEl =\n",
              "          document.querySelector('#df-58c09ae7-d081-43d0-bcba-67a49fbd31c5 button.colab-df-convert');\n",
              "        buttonEl.style.display =\n",
              "          google.colab.kernel.accessAllowed ? 'block' : 'none';\n",
              "\n",
              "        async function convertToInteractive(key) {\n",
              "          const element = document.querySelector('#df-58c09ae7-d081-43d0-bcba-67a49fbd31c5');\n",
              "          const dataTable =\n",
              "            await google.colab.kernel.invokeFunction('convertToInteractive',\n",
              "                                                     [key], {});\n",
              "          if (!dataTable) return;\n",
              "\n",
              "          const docLinkHtml = 'Like what you see? Visit the ' +\n",
              "            '<a target=\"_blank\" href=https://colab.research.google.com/notebooks/data_table.ipynb>data table notebook</a>'\n",
              "            + ' to learn more about interactive tables.';\n",
              "          element.innerHTML = '';\n",
              "          dataTable['output_type'] = 'display_data';\n",
              "          await google.colab.output.renderOutput(dataTable, element);\n",
              "          const docLink = document.createElement('div');\n",
              "          docLink.innerHTML = docLinkHtml;\n",
              "          element.appendChild(docLink);\n",
              "        }\n",
              "      </script>\n",
              "    </div>\n",
              "  </div>\n",
              "  "
            ]
          },
          "metadata": {},
          "execution_count": 18
        }
      ]
    },
    {
      "cell_type": "code",
      "source": [
        "df_cancer.shape"
      ],
      "metadata": {
        "colab": {
          "base_uri": "https://localhost:8080/"
        },
        "id": "9q3e_5Q3KUxW",
        "outputId": "fd3ac6e2-3df8-4d6c-b8db-514fb2db3814"
      },
      "execution_count": null,
      "outputs": [
        {
          "output_type": "execute_result",
          "data": {
            "text/plain": [
              "(569, 31)"
            ]
          },
          "metadata": {},
          "execution_count": 19
        }
      ]
    },
    {
      "cell_type": "markdown",
      "source": [
        "Coverting dataset into numpy array"
      ],
      "metadata": {
        "id": "LcFLF9b6ILpt"
      }
    },
    {
      "cell_type": "code",
      "source": [
        "df_cancer=np.array(df_cancer, dtype = np.float32)"
      ],
      "metadata": {
        "id": "ZF4GhhQSLBVj"
      },
      "execution_count": null,
      "outputs": []
    },
    {
      "cell_type": "code",
      "source": [
        "df_cancer.shape\n"
      ],
      "metadata": {
        "colab": {
          "base_uri": "https://localhost:8080/"
        },
        "id": "BBv80QanLFwy",
        "outputId": "6322dc86-673f-4210-9441-8ca948792713"
      },
      "execution_count": null,
      "outputs": [
        {
          "output_type": "execute_result",
          "data": {
            "text/plain": [
              "(569, 31)"
            ]
          },
          "metadata": {},
          "execution_count": 21
        }
      ]
    },
    {
      "cell_type": "markdown",
      "source": [
        "Functions for randomly splitting this dataset in 2: Training dataset (80% samples) and testing dataset (20% samples)."
      ],
      "metadata": {
        "id": "cyLCm1S2IP9B"
      }
    },
    {
      "cell_type": "code",
      "source": [
        "def get_random_indexes(n):\n",
        "    indexes = list(range(n))\n",
        "    random_indexes = []\n",
        "    for i in range(n):\n",
        "        r = np.random.randint(len(indexes))\n",
        "        random_indexes.append(indexes.pop(r))\n",
        "    return random_indexes\n",
        "\n",
        "def get_indexes_for_2_datasets(n, training = 80):\n",
        "    indexes = get_random_indexes(n)\n",
        "    train = int(training / 100. * n)\n",
        "    return indexes[:train], indexes[train:]\n",
        "\n",
        "n_samples, n_dimensions = df_cancer.shape\n",
        "\n",
        "train_indexes, test_indexes = get_indexes_for_2_datasets(n_samples)\n",
        "train_data = df_cancer[train_indexes]\n",
        "test_data = df_cancer[test_indexes]\n",
        "\n",
        "def print_dataset(name, data):\n",
        "    print('Dataset {}. Shape: {}'.format(name, data.shape))\n",
        "    print(data)"
      ],
      "metadata": {
        "id": "8Letq4yGIIzP"
      },
      "execution_count": null,
      "outputs": []
    },
    {
      "cell_type": "markdown",
      "source": [
        "We print the training dataset. It has 455 samples (455 rows), and 30 features and 1 diagnoses (31 columns).\n",
        "\n",
        "As we can see, the diagnosis( B and M) is parsed into a real number: 1. and 0."
      ],
      "metadata": {
        "id": "NxDxHMVlI78y"
      }
    },
    {
      "cell_type": "code",
      "source": [
        "print_dataset('Train', train_data)"
      ],
      "metadata": {
        "colab": {
          "base_uri": "https://localhost:8080/"
        },
        "id": "28MiYWS2KvAd",
        "outputId": "52eef45b-f8b3-40ff-95ee-4b97ab671680"
      },
      "execution_count": null,
      "outputs": [
        {
          "output_type": "stream",
          "name": "stdout",
          "text": [
            "Dataset Train. Shape: (455, 31)\n",
            "[[ 1.      15.37    22.76    ...  0.1476   0.2556   0.06828]\n",
            " [ 1.      19.8     21.56    ...  0.182    0.307    0.08255]\n",
            " [ 0.      12.56    19.07    ...  0.09265  0.2121   0.07188]\n",
            " ...\n",
            " [ 1.      16.11    18.05    ...  0.1216   0.2792   0.08158]\n",
            " [ 1.      13.82    24.49    ...  0.1521   0.3651   0.1183 ]\n",
            " [ 1.      21.75    20.99    ...  0.1841   0.2833   0.08858]]\n"
          ]
        }
      ]
    },
    {
      "cell_type": "markdown",
      "source": [
        "We print the testing dataset. It has 114 samples (114 rows), and 30 features and 1 diagnoses (31 columns)."
      ],
      "metadata": {
        "id": "adymLXIMJWNb"
      }
    },
    {
      "cell_type": "code",
      "source": [
        "print_dataset('Train', test_data)"
      ],
      "metadata": {
        "colab": {
          "base_uri": "https://localhost:8080/"
        },
        "id": "8IRCs19lLSsf",
        "outputId": "f31b1654-d249-4845-a5ca-a25a4917d585"
      },
      "execution_count": null,
      "outputs": [
        {
          "output_type": "stream",
          "name": "stdout",
          "text": [
            "Dataset Train. Shape: (114, 31)\n",
            "[[ 0.      10.51    23.09    ...  0.03125  0.2227   0.06777]\n",
            " [ 0.      12.49    16.85    ...  0.02784  0.1917   0.06174]\n",
            " [ 1.      15.08    25.74    ...  0.1526   0.2654   0.09438]\n",
            " ...\n",
            " [ 0.      14.69    13.98    ...  0.1108   0.2827   0.09208]\n",
            " [ 0.      13.45    18.3     ...  0.07911  0.2678   0.06603]\n",
            " [ 0.      12.34    12.27    ...  0.107    0.311    0.07592]]\n"
          ]
        }
      ]
    },
    {
      "cell_type": "markdown",
      "source": [
        "We define our machine learning model, which is a logistic regression model."
      ],
      "metadata": {
        "id": "8qZsVwB1Jesc"
      }
    },
    {
      "cell_type": "code",
      "source": [
        "import torch\n",
        "from torch.autograd import Variable\n",
        "import torch.nn as nn\n",
        "import torch.nn.functional as F\n",
        "\n",
        "input_size = 30\n",
        "learning_rate = 0.001\n",
        "num_iterations = 10000\n",
        "\n",
        "class Model(torch.nn.Module):\n",
        "\n",
        "    def __init__(self):\n",
        "        super().__init__()\n",
        "        self.linear1 = torch.nn.Linear(input_size, 100)\n",
        "        self.activation = torch.nn.ReLU()\n",
        "        self.linear2 = torch.nn.Linear(100, 1)\n",
        "\n",
        "    def forward(self, x):\n",
        "        x = self.linear1(x)\n",
        "        x = self.activation(x)\n",
        "        x = self.linear2(x)\n",
        "        x = torch.sigmoid(x)\n",
        "        return x\n"
      ],
      "metadata": {
        "id": "vjbW_QYELedQ"
      },
      "execution_count": null,
      "outputs": []
    },
    {
      "cell_type": "markdown",
      "source": [
        "Training Machine Learning model without federated settings while keeping track of training loss and training accuracy"
      ],
      "metadata": {
        "id": "qQgyMyu5JzYL"
      }
    },
    {
      "cell_type": "code",
      "source": [
        "def decide(y):\n",
        "    return 1. if y >= 0.5 else 0.\n",
        "\n",
        "decide_vectorized = np.vectorize(decide)\n",
        "\n",
        "to_percent = lambda x: '{:.2f}%'.format(x)\n",
        "\n",
        "def compute_accuracy(model, input, output):\n",
        "    prediction = model(input).data.numpy()[:, 0]\n",
        "    n_samples = prediction.shape[0] + 0.\n",
        "    prediction = decide_vectorized(prediction)\n",
        "    equal = prediction == output.data.numpy()\n",
        "    return 100. * equal.sum() / n_samples\n",
        "\n",
        "def get_input_and_output(data):\n",
        "    input = Variable(torch.tensor(data[:, 1:31], dtype = torch.float32))\n",
        "    output = Variable(torch.tensor(data[:, 0], dtype = torch.float32))\n",
        "    return input, output\n",
        "\n",
        "input, output = get_input_and_output(train_data)\n",
        "print(input.shape)\n",
        "test_input, test_output = get_input_and_output(test_data)\n",
        "\n",
        "import matplotlib.pyplot as plt\n",
        "%matplotlib inline\n",
        "\n",
        "diagnosis_title = 'Breast Cancer Diagnosis'\n",
        "\n",
        "def plot_graphs(diagnosis_title, losses, accuracies):\n",
        "    plt.plot(losses)\n",
        "    plt.title(f\"{diagnosis_title} - Training Loss\")\n",
        "    plt.xlabel(\"Iterations\")\n",
        "    plt.ylabel(\"Training Loss\")\n",
        "    plt.show()\n",
        "    plt.plot(accuracies)\n",
        "    plt.title(f\"{diagnosis_title} - Training Accuracy\")\n",
        "    plt.xlabel(\"Iterations\")\n",
        "    plt.ylabel(\"Training Accuracy (Percent %)\")\n",
        "    plt.show()\n",
        "\n",
        "def train_model(diagnosis_title, input, output, test_input, test_output):\n",
        "    model = Model()\n",
        "    criterion = torch.nn.BCELoss(size_average=True)\n",
        "    optimizer = torch.optim.Adam(model.parameters(), lr=learning_rate)\n",
        "    losses = []\n",
        "    accuracies = []\n",
        "    n_samples, _ = input.shape\n",
        "    for iteration in range(num_iterations):\n",
        "            optimizer.zero_grad()\n",
        "            prediction = model(input)\n",
        "            loss = criterion(prediction, output.unsqueeze(1))\n",
        "            loss.backward()\n",
        "            optimizer.step()\n",
        "            if iteration % 500 == 0:\n",
        "                train_acc = compute_accuracy(model, input, output)\n",
        "                train_loss = loss.item()\n",
        "                losses.append(train_loss)\n",
        "                accuracies.append(train_acc)\n",
        "                print('iteration={}, loss={:.4f}, train_acc={}'.format(iteration, train_loss, to_percent(train_acc)))\n",
        "    plot_graphs(diagnosis_title, losses, accuracies)\n",
        "    test_acc = compute_accuracy(model, test_input, test_output)\n",
        "    print('\\nTesting Accuracy = {}'.format(to_percent(test_acc)))\n",
        "    return model\n"
      ],
      "metadata": {
        "colab": {
          "base_uri": "https://localhost:8080/"
        },
        "id": "zL1ZTn8iNAe7",
        "outputId": "95a6dfaa-1b29-430e-a6b4-edc0e775a86f"
      },
      "execution_count": null,
      "outputs": [
        {
          "output_type": "stream",
          "name": "stdout",
          "text": [
            "torch.Size([455, 30])\n"
          ]
        }
      ]
    },
    {
      "cell_type": "code",
      "source": [
        "model = train_model(diagnosis_title, input, output, test_input, test_output)"
      ],
      "metadata": {
        "colab": {
          "base_uri": "https://localhost:8080/",
          "height": 955
        },
        "id": "v1NbspUkOMdZ",
        "outputId": "98afc89a-64e6-4fcb-d089-a7ac999f6d02"
      },
      "execution_count": null,
      "outputs": [
        {
          "output_type": "stream",
          "name": "stdout",
          "text": [
            "iteration=0, loss=15.8554, train_acc=36.04%\n",
            "iteration=500, loss=0.1472, train_acc=94.95%\n",
            "iteration=1000, loss=0.0902, train_acc=95.60%\n",
            "iteration=1500, loss=0.0699, train_acc=96.92%\n",
            "iteration=2000, loss=0.0598, train_acc=97.80%\n",
            "iteration=2500, loss=0.0542, train_acc=97.58%\n",
            "iteration=3000, loss=0.0496, train_acc=97.80%\n",
            "iteration=3500, loss=0.0461, train_acc=97.80%\n",
            "iteration=4000, loss=0.0411, train_acc=98.24%\n",
            "iteration=4500, loss=0.0364, train_acc=98.68%\n",
            "iteration=5000, loss=0.0358, train_acc=98.24%\n",
            "iteration=5500, loss=0.0310, train_acc=98.90%\n",
            "iteration=6000, loss=0.0295, train_acc=98.90%\n",
            "iteration=6500, loss=0.0279, train_acc=98.90%\n",
            "iteration=7000, loss=0.0269, train_acc=98.90%\n",
            "iteration=7500, loss=0.0250, train_acc=99.12%\n",
            "iteration=8000, loss=0.0239, train_acc=99.12%\n",
            "iteration=8500, loss=0.0228, train_acc=99.12%\n",
            "iteration=9000, loss=0.0287, train_acc=98.90%\n",
            "iteration=9500, loss=0.0210, train_acc=99.12%\n"
          ]
        },
        {
          "output_type": "display_data",
          "data": {
            "text/plain": [
              "<Figure size 432x288 with 1 Axes>"
            ],
            "image/png": "[encoded data removed]"
          },
          "metadata": {
            "needs_background": "light"
          }
        },
        {
          "output_type": "display_data",
          "data": {
            "text/plain": [
              "<Figure size 432x288 with 1 Axes>"
            ],
            "image/png": "[encoded data removed]"
          },
          "metadata": {
            "needs_background": "light"
          }
        },
        {
          "output_type": "stream",
          "name": "stdout",
          "text": [
            "\n",
            "Testing Accuracy = 97.37%\n"
          ]
        }
      ]
    },
    {
      "cell_type": "markdown",
      "source": [
        "So far, we have used machine learning in an insecure way. Now, let's implement the techniques of Federated Learning.\n",
        "\n",
        "# FEDERATED LEARNING\n",
        "\n",
        "In this demo, there are 13 hospitals each with 35 randomly selected samples. (The dataset will be split in 13, randomly.) There could be more hospitals. The 13 hospitals cannot share the cases of their patients. Hence, the ML model will be learned in a federated way.\n",
        "\n",
        "How? Federated learning is iterated 100 times. At each iteration, a copy of the shared model is sent to all the 13 hospitals. Each hospital trains its own local model with its own local dataset, in 5 local iterations. Each local model improves a little bit in its own direction. Then we compute the local losses and local accuracies to keep track of them and to make graphs of them. We send the local models to the trusted aggregator that will average all the model updates. This averaged model is the shared model that is sent to all the 13 hospitals at the begining of each iteration.\n",
        "\n",
        "In this way, only the ML model will be shared. Whereas the local cases of each hospital will be kept private and they will be used to train model updates in a local way. Federated learning will protect the privacy of datasets in each hospital and at the same time, we will generate a more robust machine learning model, which will benefit all hospitals. This shared ML model preserves the privacy of individual patients and at the same time, reveals important statistics of stereotypical cases.\n",
        "\n"
      ],
      "metadata": {
        "id": "LmGbDUWKOsVp"
      }
    },
    {
      "cell_type": "markdown",
      "source": [
        "First, we start by creating the virtual workers that simulate the computers of each hospital. And then we establish communications among all of them."
      ],
      "metadata": {
        "id": "NxlpuQDAPF-t"
      }
    },
    {
      "cell_type": "code",
      "source": [
        "import syft as sy\n",
        "import torch as th\n",
        "hook = sy.TorchHook(th)\n",
        "from torch import nn, optim\n",
        "\n",
        "n_hospitals = 13\n",
        "hospitals = []\n",
        "for i in range(n_hospitals):\n",
        "    hospital_name = 'hospital{}'.format(i)\n",
        "    hospital = sy.VirtualWorker(hook, id = hospital_name)\n",
        "    hospitals.append(hospital)\n",
        "secure_worker = sy.VirtualWorker(hook, id=\"secure_worker\")\n",
        "\n",
        "def get_workers_names(workers):\n",
        "    return [worker.id for worker in workers]\n",
        "\n",
        "def add_and_print_workers(worker, workers):\n",
        "    print('workers of {} = {}'.format(worker.id, get_workers_names(workers)))\n",
        "    worker.add_workers(workers)\n",
        "\n",
        "for i in range(n_hospitals):\n",
        "    workers = [hospitals[i2] for i2 in range(n_hospitals) if i2 != i] + [secure_worker]\n",
        "    add_and_print_workers(hospitals[i], workers)\n",
        "add_and_print_workers(secure_worker, hospitals)\n"
      ],
      "metadata": {
        "colab": {
          "base_uri": "https://localhost:8080/"
        },
        "id": "odoVtK8COWYU",
        "outputId": "e1792230-c979-4f8b-b727-d7bfe9fa12b0"
      },
      "execution_count": null,
      "outputs": [
        {
          "output_type": "stream",
          "name": "stderr",
          "text": [
            "Worker hospital1 already exists. Replacing old worker which could cause                     unexpected behavior\n",
            "Worker hospital2 already exists. Replacing old worker which could cause                     unexpected behavior\n",
            "Worker hospital3 already exists. Replacing old worker which could cause                     unexpected behavior\n",
            "Worker hospital4 already exists. Replacing old worker which could cause                     unexpected behavior\n",
            "Worker hospital5 already exists. Replacing old worker which could cause                     unexpected behavior\n",
            "Worker hospital6 already exists. Replacing old worker which could cause                     unexpected behavior\n",
            "Worker hospital7 already exists. Replacing old worker which could cause                     unexpected behavior\n",
            "Worker hospital8 already exists. Replacing old worker which could cause                     unexpected behavior\n",
            "Worker hospital9 already exists. Replacing old worker which could cause                     unexpected behavior\n",
            "Worker hospital10 already exists. Replacing old worker which could cause                     unexpected behavior\n",
            "Worker hospital11 already exists. Replacing old worker which could cause                     unexpected behavior\n",
            "Worker hospital12 already exists. Replacing old worker which could cause                     unexpected behavior\n",
            "Worker secure_worker already exists. Replacing old worker which could cause                     unexpected behavior\n",
            "Worker hospital0 already exists. Replacing old worker which could cause                     unexpected behavior\n",
            "Worker hospital2 already exists. Replacing old worker which could cause                     unexpected behavior\n",
            "Worker hospital3 already exists. Replacing old worker which could cause                     unexpected behavior\n",
            "Worker hospital4 already exists. Replacing old worker which could cause                     unexpected behavior\n",
            "Worker hospital5 already exists. Replacing old worker which could cause                     unexpected behavior\n",
            "Worker hospital6 already exists. Replacing old worker which could cause                     unexpected behavior\n",
            "Worker hospital7 already exists. Replacing old worker which could cause                     unexpected behavior\n",
            "Worker hospital8 already exists. Replacing old worker which could cause                     unexpected behavior\n",
            "Worker hospital9 already exists. Replacing old worker which could cause                     unexpected behavior\n",
            "Worker hospital10 already exists. Replacing old worker which could cause                     unexpected behavior\n",
            "Worker hospital11 already exists. Replacing old worker which could cause                     unexpected behavior\n",
            "Worker hospital12 already exists. Replacing old worker which could cause                     unexpected behavior\n",
            "Worker secure_worker already exists. Replacing old worker which could cause                     unexpected behavior\n",
            "Worker hospital0 already exists. Replacing old worker which could cause                     unexpected behavior\n",
            "Worker hospital1 already exists. Replacing old worker which could cause                     unexpected behavior\n",
            "Worker hospital3 already exists. Replacing old worker which could cause                     unexpected behavior\n",
            "Worker hospital4 already exists. Replacing old worker which could cause                     unexpected behavior\n",
            "Worker hospital5 already exists. Replacing old worker which could cause                     unexpected behavior\n",
            "Worker hospital6 already exists. Replacing old worker which could cause                     unexpected behavior\n",
            "Worker hospital7 already exists. Replacing old worker which could cause                     unexpected behavior\n",
            "Worker hospital8 already exists. Replacing old worker which could cause                     unexpected behavior\n",
            "Worker hospital9 already exists. Replacing old worker which could cause                     unexpected behavior\n",
            "Worker hospital10 already exists. Replacing old worker which could cause                     unexpected behavior\n",
            "Worker hospital11 already exists. Replacing old worker which could cause                     unexpected behavior\n",
            "Worker hospital12 already exists. Replacing old worker which could cause                     unexpected behavior\n",
            "Worker secure_worker already exists. Replacing old worker which could cause                     unexpected behavior\n",
            "Worker hospital0 already exists. Replacing old worker which could cause                     unexpected behavior\n",
            "Worker hospital1 already exists. Replacing old worker which could cause                     unexpected behavior\n",
            "Worker hospital2 already exists. Replacing old worker which could cause                     unexpected behavior\n"
          ]
        },
        {
          "output_type": "stream",
          "name": "stdout",
          "text": [
            "workers of hospital0 = ['hospital1', 'hospital2', 'hospital3', 'hospital4', 'hospital5', 'hospital6', 'hospital7', 'hospital8', 'hospital9', 'hospital10', 'hospital11', 'hospital12', 'secure_worker']\n",
            "workers of hospital1 = ['hospital0', 'hospital2', 'hospital3', 'hospital4', 'hospital5', 'hospital6', 'hospital7', 'hospital8', 'hospital9', 'hospital10', 'hospital11', 'hospital12', 'secure_worker']\n",
            "workers of hospital2 = ['hospital0', 'hospital1', 'hospital3', 'hospital4', 'hospital5', 'hospital6', 'hospital7', 'hospital8', 'hospital9', 'hospital10', 'hospital11', 'hospital12', 'secure_worker']\n",
            "workers of hospital3 = ['hospital0', 'hospital1', 'hospital2', 'hospital4', 'hospital5', 'hospital6', 'hospital7', 'hospital8', 'hospital9', 'hospital10', 'hospital11', 'hospital12', 'secure_worker']\n"
          ]
        },
        {
          "output_type": "stream",
          "name": "stderr",
          "text": [
            "Worker hospital4 already exists. Replacing old worker which could cause                     unexpected behavior\n",
            "Worker hospital5 already exists. Replacing old worker which could cause                     unexpected behavior\n",
            "Worker hospital6 already exists. Replacing old worker which could cause                     unexpected behavior\n",
            "Worker hospital7 already exists. Replacing old worker which could cause                     unexpected behavior\n",
            "Worker hospital8 already exists. Replacing old worker which could cause                     unexpected behavior\n",
            "Worker hospital9 already exists. Replacing old worker which could cause                     unexpected behavior\n",
            "Worker hospital10 already exists. Replacing old worker which could cause                     unexpected behavior\n",
            "Worker hospital11 already exists. Replacing old worker which could cause                     unexpected behavior\n",
            "Worker hospital12 already exists. Replacing old worker which could cause                     unexpected behavior\n",
            "Worker secure_worker already exists. Replacing old worker which could cause                     unexpected behavior\n",
            "Worker hospital0 already exists. Replacing old worker which could cause                     unexpected behavior\n",
            "Worker hospital1 already exists. Replacing old worker which could cause                     unexpected behavior\n",
            "Worker hospital2 already exists. Replacing old worker which could cause                     unexpected behavior\n",
            "Worker hospital3 already exists. Replacing old worker which could cause                     unexpected behavior\n",
            "Worker hospital5 already exists. Replacing old worker which could cause                     unexpected behavior\n",
            "Worker hospital6 already exists. Replacing old worker which could cause                     unexpected behavior\n",
            "Worker hospital7 already exists. Replacing old worker which could cause                     unexpected behavior\n",
            "Worker hospital8 already exists. Replacing old worker which could cause                     unexpected behavior\n",
            "Worker hospital9 already exists. Replacing old worker which could cause                     unexpected behavior\n",
            "Worker hospital10 already exists. Replacing old worker which could cause                     unexpected behavior\n",
            "Worker hospital11 already exists. Replacing old worker which could cause                     unexpected behavior\n",
            "Worker hospital12 already exists. Replacing old worker which could cause                     unexpected behavior\n",
            "Worker secure_worker already exists. Replacing old worker which could cause                     unexpected behavior\n",
            "Worker hospital0 already exists. Replacing old worker which could cause                     unexpected behavior\n",
            "Worker hospital1 already exists. Replacing old worker which could cause                     unexpected behavior\n",
            "Worker hospital2 already exists. Replacing old worker which could cause                     unexpected behavior\n",
            "Worker hospital3 already exists. Replacing old worker which could cause                     unexpected behavior\n",
            "Worker hospital4 already exists. Replacing old worker which could cause                     unexpected behavior\n",
            "Worker hospital6 already exists. Replacing old worker which could cause                     unexpected behavior\n",
            "Worker hospital7 already exists. Replacing old worker which could cause                     unexpected behavior\n",
            "Worker hospital8 already exists. Replacing old worker which could cause                     unexpected behavior\n",
            "Worker hospital9 already exists. Replacing old worker which could cause                     unexpected behavior\n",
            "Worker hospital10 already exists. Replacing old worker which could cause                     unexpected behavior\n",
            "Worker hospital11 already exists. Replacing old worker which could cause                     unexpected behavior\n",
            "Worker hospital12 already exists. Replacing old worker which could cause                     unexpected behavior\n",
            "Worker secure_worker already exists. Replacing old worker which could cause                     unexpected behavior\n",
            "Worker hospital0 already exists. Replacing old worker which could cause                     unexpected behavior\n",
            "Worker hospital1 already exists. Replacing old worker which could cause                     unexpected behavior\n",
            "Worker hospital2 already exists. Replacing old worker which could cause                     unexpected behavior\n",
            "Worker hospital3 already exists. Replacing old worker which could cause                     unexpected behavior\n",
            "Worker hospital4 already exists. Replacing old worker which could cause                     unexpected behavior\n",
            "Worker hospital5 already exists. Replacing old worker which could cause                     unexpected behavior\n",
            "Worker hospital7 already exists. Replacing old worker which could cause                     unexpected behavior\n"
          ]
        },
        {
          "output_type": "stream",
          "name": "stdout",
          "text": [
            "workers of hospital4 = ['hospital0', 'hospital1', 'hospital2', 'hospital3', 'hospital5', 'hospital6', 'hospital7', 'hospital8', 'hospital9', 'hospital10', 'hospital11', 'hospital12', 'secure_worker']\n",
            "workers of hospital5 = ['hospital0', 'hospital1', 'hospital2', 'hospital3', 'hospital4', 'hospital6', 'hospital7', 'hospital8', 'hospital9', 'hospital10', 'hospital11', 'hospital12', 'secure_worker']\n",
            "workers of hospital6 = ['hospital0', 'hospital1', 'hospital2', 'hospital3', 'hospital4', 'hospital5', 'hospital7', 'hospital8', 'hospital9', 'hospital10', 'hospital11', 'hospital12', 'secure_worker']\n"
          ]
        },
        {
          "output_type": "stream",
          "name": "stderr",
          "text": [
            "Worker hospital8 already exists. Replacing old worker which could cause                     unexpected behavior\n",
            "Worker hospital9 already exists. Replacing old worker which could cause                     unexpected behavior\n",
            "Worker hospital10 already exists. Replacing old worker which could cause                     unexpected behavior\n",
            "Worker hospital11 already exists. Replacing old worker which could cause                     unexpected behavior\n",
            "Worker hospital12 already exists. Replacing old worker which could cause                     unexpected behavior\n",
            "Worker secure_worker already exists. Replacing old worker which could cause                     unexpected behavior\n",
            "Worker hospital0 already exists. Replacing old worker which could cause                     unexpected behavior\n",
            "Worker hospital1 already exists. Replacing old worker which could cause                     unexpected behavior\n",
            "Worker hospital2 already exists. Replacing old worker which could cause                     unexpected behavior\n",
            "Worker hospital3 already exists. Replacing old worker which could cause                     unexpected behavior\n",
            "Worker hospital4 already exists. Replacing old worker which could cause                     unexpected behavior\n",
            "Worker hospital5 already exists. Replacing old worker which could cause                     unexpected behavior\n",
            "Worker hospital6 already exists. Replacing old worker which could cause                     unexpected behavior\n",
            "Worker hospital8 already exists. Replacing old worker which could cause                     unexpected behavior\n",
            "Worker hospital9 already exists. Replacing old worker which could cause                     unexpected behavior\n",
            "Worker hospital10 already exists. Replacing old worker which could cause                     unexpected behavior\n",
            "Worker hospital11 already exists. Replacing old worker which could cause                     unexpected behavior\n",
            "Worker hospital12 already exists. Replacing old worker which could cause                     unexpected behavior\n",
            "Worker secure_worker already exists. Replacing old worker which could cause                     unexpected behavior\n",
            "Worker hospital0 already exists. Replacing old worker which could cause                     unexpected behavior\n",
            "Worker hospital1 already exists. Replacing old worker which could cause                     unexpected behavior\n",
            "Worker hospital2 already exists. Replacing old worker which could cause                     unexpected behavior\n",
            "Worker hospital3 already exists. Replacing old worker which could cause                     unexpected behavior\n",
            "Worker hospital4 already exists. Replacing old worker which could cause                     unexpected behavior\n",
            "Worker hospital5 already exists. Replacing old worker which could cause                     unexpected behavior\n",
            "Worker hospital6 already exists. Replacing old worker which could cause                     unexpected behavior\n",
            "Worker hospital7 already exists. Replacing old worker which could cause                     unexpected behavior\n",
            "Worker hospital9 already exists. Replacing old worker which could cause                     unexpected behavior\n",
            "Worker hospital10 already exists. Replacing old worker which could cause                     unexpected behavior\n",
            "Worker hospital11 already exists. Replacing old worker which could cause                     unexpected behavior\n",
            "Worker hospital12 already exists. Replacing old worker which could cause                     unexpected behavior\n",
            "Worker secure_worker already exists. Replacing old worker which could cause                     unexpected behavior\n",
            "Worker hospital0 already exists. Replacing old worker which could cause                     unexpected behavior\n",
            "Worker hospital1 already exists. Replacing old worker which could cause                     unexpected behavior\n",
            "Worker hospital2 already exists. Replacing old worker which could cause                     unexpected behavior\n",
            "Worker hospital3 already exists. Replacing old worker which could cause                     unexpected behavior\n",
            "Worker hospital4 already exists. Replacing old worker which could cause                     unexpected behavior\n",
            "Worker hospital5 already exists. Replacing old worker which could cause                     unexpected behavior\n",
            "Worker hospital6 already exists. Replacing old worker which could cause                     unexpected behavior\n",
            "Worker hospital7 already exists. Replacing old worker which could cause                     unexpected behavior\n",
            "Worker hospital8 already exists. Replacing old worker which could cause                     unexpected behavior\n",
            "Worker hospital10 already exists. Replacing old worker which could cause                     unexpected behavior\n",
            "Worker hospital11 already exists. Replacing old worker which could cause                     unexpected behavior\n"
          ]
        },
        {
          "output_type": "stream",
          "name": "stdout",
          "text": [
            "workers of hospital7 = ['hospital0', 'hospital1', 'hospital2', 'hospital3', 'hospital4', 'hospital5', 'hospital6', 'hospital8', 'hospital9', 'hospital10', 'hospital11', 'hospital12', 'secure_worker']\n",
            "workers of hospital8 = ['hospital0', 'hospital1', 'hospital2', 'hospital3', 'hospital4', 'hospital5', 'hospital6', 'hospital7', 'hospital9', 'hospital10', 'hospital11', 'hospital12', 'secure_worker']\n",
            "workers of hospital9 = ['hospital0', 'hospital1', 'hospital2', 'hospital3', 'hospital4', 'hospital5', 'hospital6', 'hospital7', 'hospital8', 'hospital10', 'hospital11', 'hospital12', 'secure_worker']\n"
          ]
        },
        {
          "output_type": "stream",
          "name": "stderr",
          "text": [
            "Worker hospital12 already exists. Replacing old worker which could cause                     unexpected behavior\n",
            "Worker secure_worker already exists. Replacing old worker which could cause                     unexpected behavior\n",
            "Worker hospital0 already exists. Replacing old worker which could cause                     unexpected behavior\n",
            "Worker hospital1 already exists. Replacing old worker which could cause                     unexpected behavior\n",
            "Worker hospital2 already exists. Replacing old worker which could cause                     unexpected behavior\n",
            "Worker hospital3 already exists. Replacing old worker which could cause                     unexpected behavior\n",
            "Worker hospital4 already exists. Replacing old worker which could cause                     unexpected behavior\n",
            "Worker hospital5 already exists. Replacing old worker which could cause                     unexpected behavior\n",
            "Worker hospital6 already exists. Replacing old worker which could cause                     unexpected behavior\n",
            "Worker hospital7 already exists. Replacing old worker which could cause                     unexpected behavior\n",
            "Worker hospital8 already exists. Replacing old worker which could cause                     unexpected behavior\n",
            "Worker hospital9 already exists. Replacing old worker which could cause                     unexpected behavior\n",
            "Worker hospital11 already exists. Replacing old worker which could cause                     unexpected behavior\n",
            "Worker hospital12 already exists. Replacing old worker which could cause                     unexpected behavior\n",
            "Worker secure_worker already exists. Replacing old worker which could cause                     unexpected behavior\n",
            "Worker hospital0 already exists. Replacing old worker which could cause                     unexpected behavior\n",
            "Worker hospital1 already exists. Replacing old worker which could cause                     unexpected behavior\n",
            "Worker hospital2 already exists. Replacing old worker which could cause                     unexpected behavior\n",
            "Worker hospital3 already exists. Replacing old worker which could cause                     unexpected behavior\n",
            "Worker hospital4 already exists. Replacing old worker which could cause                     unexpected behavior\n",
            "Worker hospital5 already exists. Replacing old worker which could cause                     unexpected behavior\n",
            "Worker hospital6 already exists. Replacing old worker which could cause                     unexpected behavior\n",
            "Worker hospital7 already exists. Replacing old worker which could cause                     unexpected behavior\n",
            "Worker hospital8 already exists. Replacing old worker which could cause                     unexpected behavior\n",
            "Worker hospital9 already exists. Replacing old worker which could cause                     unexpected behavior\n",
            "Worker hospital10 already exists. Replacing old worker which could cause                     unexpected behavior\n",
            "Worker hospital12 already exists. Replacing old worker which could cause                     unexpected behavior\n",
            "Worker secure_worker already exists. Replacing old worker which could cause                     unexpected behavior\n",
            "Worker hospital0 already exists. Replacing old worker which could cause                     unexpected behavior\n"
          ]
        },
        {
          "output_type": "stream",
          "name": "stdout",
          "text": [
            "workers of hospital10 = ['hospital0', 'hospital1', 'hospital2', 'hospital3', 'hospital4', 'hospital5', 'hospital6', 'hospital7', 'hospital8', 'hospital9', 'hospital11', 'hospital12', 'secure_worker']\n",
            "workers of hospital11 = ['hospital0', 'hospital1', 'hospital2', 'hospital3', 'hospital4', 'hospital5', 'hospital6', 'hospital7', 'hospital8', 'hospital9', 'hospital10', 'hospital12', 'secure_worker']\n",
            "workers of hospital12 = ['hospital0', 'hospital1', 'hospital2', 'hospital3', 'hospital4', 'hospital5', 'hospital6', 'hospital7', 'hospital8', 'hospital9', 'hospital10', 'hospital11', 'secure_worker']\n"
          ]
        },
        {
          "output_type": "stream",
          "name": "stderr",
          "text": [
            "Worker hospital1 already exists. Replacing old worker which could cause                     unexpected behavior\n",
            "Worker hospital2 already exists. Replacing old worker which could cause                     unexpected behavior\n",
            "Worker hospital3 already exists. Replacing old worker which could cause                     unexpected behavior\n",
            "Worker hospital4 already exists. Replacing old worker which could cause                     unexpected behavior\n",
            "Worker hospital5 already exists. Replacing old worker which could cause                     unexpected behavior\n",
            "Worker hospital6 already exists. Replacing old worker which could cause                     unexpected behavior\n",
            "Worker hospital7 already exists. Replacing old worker which could cause                     unexpected behavior\n",
            "Worker hospital8 already exists. Replacing old worker which could cause                     unexpected behavior\n",
            "Worker hospital9 already exists. Replacing old worker which could cause                     unexpected behavior\n",
            "Worker hospital10 already exists. Replacing old worker which could cause                     unexpected behavior\n",
            "Worker hospital11 already exists. Replacing old worker which could cause                     unexpected behavior\n",
            "Worker secure_worker already exists. Replacing old worker which could cause                     unexpected behavior\n",
            "Worker hospital0 already exists. Replacing old worker which could cause                     unexpected behavior\n",
            "Worker hospital1 already exists. Replacing old worker which could cause                     unexpected behavior\n",
            "Worker hospital2 already exists. Replacing old worker which could cause                     unexpected behavior\n",
            "Worker hospital3 already exists. Replacing old worker which could cause                     unexpected behavior\n",
            "Worker hospital4 already exists. Replacing old worker which could cause                     unexpected behavior\n",
            "Worker hospital5 already exists. Replacing old worker which could cause                     unexpected behavior\n",
            "Worker hospital6 already exists. Replacing old worker which could cause                     unexpected behavior\n",
            "Worker hospital7 already exists. Replacing old worker which could cause                     unexpected behavior\n",
            "Worker hospital8 already exists. Replacing old worker which could cause                     unexpected behavior\n",
            "Worker hospital9 already exists. Replacing old worker which could cause                     unexpected behavior\n",
            "Worker hospital10 already exists. Replacing old worker which could cause                     unexpected behavior\n",
            "Worker hospital11 already exists. Replacing old worker which could cause                     unexpected behavior\n",
            "Worker hospital12 already exists. Replacing old worker which could cause                     unexpected behavior\n"
          ]
        },
        {
          "output_type": "stream",
          "name": "stdout",
          "text": [
            "workers of secure_worker = ['hospital0', 'hospital1', 'hospital2', 'hospital3', 'hospital4', 'hospital5', 'hospital6', 'hospital7', 'hospital8', 'hospital9', 'hospital10', 'hospital11', 'hospital12']\n"
          ]
        }
      ]
    },
    {
      "cell_type": "markdown",
      "source": [
        "Each virtual worker in each hospital is supposed to have some cases of patients, their own local datasets. The 13 hospitals cannot share the cases of their patients because it is necessary to protect the privacy of patients. So, the local cases of each hospital will be kept private and they will be used to train model updates in a local way.\n",
        "\n",
        "In order to simulate this process, we start by dividing the dataset in 13 parts, randomly. And then we send each part to each hospital. Each part is composed of the features, the diagnosis for disease."
      ],
      "metadata": {
        "id": "foK3abViRJ0C"
      }
    },
    {
      "cell_type": "code",
      "source": [
        "n_samples = train_data.shape[0]\n",
        "samples_per_hospital = int((n_samples + 0.5) / n_hospitals)\n",
        "hospital_features = []\n",
        "hospital_targets = []\n",
        "train_data = th.tensor(train_data, dtype = torch.float32, requires_grad=True)\n",
        "for i in range(n_hospitals):\n",
        "    train_data2 = train_data[i * samples_per_hospital:(i + 1) * samples_per_hospital].clone().detach().requires_grad_(True)\n",
        "    features = train_data2[:, 1:31].clone().detach().requires_grad_(True)\n",
        "    targets = train_data2[:, 0][:, None].clone().detach()\n",
        "    hospital_features.append(features.send(hospitals[i]))\n",
        "    hospital_targets.append(targets.send(hospitals[i]))\n",
        "\n",
        "print(model)"
      ],
      "metadata": {
        "colab": {
          "base_uri": "https://localhost:8080/"
        },
        "id": "IWluSsR4PK8i",
        "outputId": "f9ddfea6-25ea-4cb6-e4f4-5b141a3fcce8"
      },
      "execution_count": null,
      "outputs": [
        {
          "output_type": "stream",
          "name": "stdout",
          "text": [
            "Model(\n",
            "  (linear1): Linear(in_features=30, out_features=100, bias=True)\n",
            "  (activation): ReLU()\n",
            "  (linear2): Linear(in_features=100, out_features=1, bias=True)\n",
            ")\n"
          ]
        }
      ]
    },
    {
      "cell_type": "markdown",
      "source": [
        "Functions to train the machine learning model in a federated way for each hospital separately.\n",
        "\n",
        "At each iteration, a copy of the shared model is sent to all the 13 hospitals. Each hospital trains its own local model with its own local dataset, in 5 local iterations. (We can vary the number of local iterations.)  We send the local models to the trusted aggregator that will average all the model updates. This averaged model is the shared model that is sent to all the 13 hospitals at the begining of each iteration.\n",
        "\n",
        "Finally, we compute the testing accuracy of the final model with the testing dataset we separated since the beginning.\n",
        "\n",
        "We use FedAvg algorithm here\n",
        "\n",
        "![Screenshot from 2022-04-24 16-03-52.png](data:image/png;base64,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)"
      ],
      "metadata": {
        "id": "ipTVN4t5SLSc"
      }
    },
    {
      "cell_type": "code",
      "source": [
        "def plot_federated_graphs(diagnosis_title, losses, accuracies):\n",
        "    for i in range(n_hospitals):\n",
        "        plt.plot(losses[i], label=f'Hospital {i}')\n",
        "    legend = plt.legend(loc='upper right', shadow=True)\n",
        "    plt.title(f\"{diagnosis_title} - Training Loss\")\n",
        "    plt.xlabel(\"Iterations\")\n",
        "    plt.ylabel(\"Training Loss\")\n",
        "    plt.show()\n",
        "    for i in range(n_hospitals):\n",
        "        plt.plot(accuracies[i], label=f'Hospital {i}')\n",
        "    legend = plt.legend(loc='lower right', shadow=True)\n",
        "    plt.title(f\"{diagnosis_title} - Training Accuracy\")\n",
        "    plt.xlabel(\"Iterations\")\n",
        "    plt.ylabel(\"Training Accuracy (Percent %)\")\n",
        "    plt.show()\n",
        "\n",
        "def compute_federated_accuracy(model, input, output):\n",
        "    prediction = model(input)\n",
        "    n_samples = prediction.shape[0]\n",
        "    s = 0.\n",
        "    for i in range(n_samples):\n",
        "        p = 1. if prediction[i] >= 0.5 else 0.\n",
        "        e = 1. if p == output[i] else 0.\n",
        "        s += e\n",
        "    return 100. * s / n_samples\n",
        "\n",
        "iterations = 100 #2000\n",
        "worker_iterations = 5\n",
        "\n",
        "def federated_learning_with_fedavg(diagnosis_title, hospital_features, hospital_targets, test_input, test_output):\n",
        "    model = Model()\n",
        "    criterion = torch.nn.BCELoss(size_average=True)\n",
        "    optimizer = torch.optim.Adam(model.parameters(), lr=learning_rate)\n",
        "    losses = [[] for i in range(n_hospitals)]\n",
        "    accuracies = [[] for i in range(n_hospitals)]\n",
        "    for iteration in range(iterations):\n",
        "        models = [model.copy().send(hospitals[i]) for i in range(n_hospitals)]\n",
        "        optimizers = [torch.optim.Adam(params = models[i].parameters(), lr = learning_rate) for i in range(n_hospitals)]\n",
        "        for worker_iteration in range(worker_iterations):\n",
        "            last_losses = []\n",
        "            for i in range(n_hospitals):\n",
        "                optimizers[i].zero_grad()\n",
        "                prediction = models[i](hospital_features[i])\n",
        "                loss = criterion(prediction, hospital_targets[i])\n",
        "                loss.backward()\n",
        "                optimizers[i].step()\n",
        "                loss = loss.get().data.item()\n",
        "                last_losses.append(loss)\n",
        "        for i in range(n_hospitals):\n",
        "            losses[i].append(last_losses[i])\n",
        "            train_acc = compute_federated_accuracy(models[i], hospital_features[i], hospital_targets[i])\n",
        "            accuracies[i].append(train_acc)\n",
        "            models[i].move(secure_worker)\n",
        "        with th.no_grad():\n",
        "            avg_weight = sum([models[i].linear1.weight.data for i in range(n_hospitals)]) / n_hospitals\n",
        "            model.linear1.weight.set_(avg_weight.get())\n",
        "            avg_bias = sum([models[i].linear1.bias.data for i in range(n_hospitals)]) / n_hospitals\n",
        "            model.linear1.bias.set_(avg_bias.get())\n",
        "            avg_weight = sum([models[i].linear2.weight.data for i in range(n_hospitals)]) / n_hospitals\n",
        "            model.linear2.weight.set_(avg_weight.get())\n",
        "            avg_bias = sum([models[i].linear2.bias.data for i in range(n_hospitals)]) / n_hospitals\n",
        "            model.linear2.bias.set_(avg_bias.get())\n",
        "\n",
        "        if iteration % 10 == 0:\n",
        "            losses_str = ['{:.4f}'.format(losses[i][-1]) for i in range(n_hospitals)]\n",
        "            accuracies_str = [to_percent(accuracies[i][-1]) for i in range(n_hospitals)]\n",
        "            print('Iteration={}, losses={}, accuracies={}'.format(iteration, losses_str, accuracies_str))\n",
        "    plot_federated_graphs(diagnosis_title, losses, accuracies)\n",
        "    test_acc = compute_accuracy(model, test_input, test_output)\n",
        "    print('\\nTesting Accuracy = {}'.format(to_percent(test_acc)))\n",
        "    return model\n"
      ],
      "metadata": {
        "id": "9UIQoxCgRfmX"
      },
      "execution_count": null,
      "outputs": []
    },
    {
      "cell_type": "code",
      "source": [
        "model = federated_learning_with_fedavg(diagnosis_title, hospital_features, hospital_targets, test_input, test_output)"
      ],
      "metadata": {
        "colab": {
          "base_uri": "https://localhost:8080/",
          "height": 801
        },
        "id": "bPU_vnYeSjKC",
        "outputId": "d1c85684-93b8-42e2-b25c-3b15fd2a6c67"
      },
      "execution_count": null,
      "outputs": [
        {
          "output_type": "stream",
          "name": "stdout",
          "text": [
            "Iteration=0, losses=['9.7591', '1.6091', '7.4094', '8.4992', '6.8343', '4.8151', '6.0003', '4.6433', '2.6214', '6.7064', '2.8918', '9.3110', '4.3801'], accuracies=['57.14%', '91.43%', '68.57%', '60.00%', '62.86%', '82.86%', '71.43%', '80.00%', '88.57%', '74.29%', '82.86%', '60.00%', '82.86%']\n",
            "Iteration=10, losses=['0.2619', '0.4983', '0.7976', '0.3822', '0.3484', '0.5124', '0.8143', '0.9397', '1.0822', '1.0135', '0.6088', '0.6931', '0.3637'], accuracies=['91.43%', '91.43%', '82.86%', '85.71%', '91.43%', '91.43%', '82.86%', '85.71%', '85.71%', '82.86%', '85.71%', '85.71%', '88.57%']\n",
            "Iteration=20, losses=['0.2538', '0.4025', '0.5506', '0.3638', '0.3782', '0.3906', '0.7344', '0.8012', '0.9514', '0.9776', '0.5035', '0.5713', '0.3260'], accuracies=['91.43%', '91.43%', '82.86%', '91.43%', '94.29%', '91.43%', '85.71%', '82.86%', '85.71%', '82.86%', '85.71%', '88.57%', '91.43%']\n",
            "Iteration=30, losses=['0.2473', '0.3650', '0.5374', '0.3018', '0.3560', '0.3106', '0.6973', '0.7343', '0.9200', '0.9849', '0.4774', '0.5720', '0.3182'], accuracies=['94.29%', '91.43%', '85.71%', '91.43%', '94.29%', '91.43%', '85.71%', '88.57%', '88.57%', '82.86%', '85.71%', '85.71%', '91.43%']\n",
            "Iteration=40, losses=['0.2270', '0.3523', '0.5883', '0.2722', '0.3419', '0.2670', '0.6785', '0.6977', '0.9014', '0.9725', '0.4619', '0.4994', '0.3126'], accuracies=['94.29%', '91.43%', '85.71%', '88.57%', '94.29%', '91.43%', '88.57%', '91.43%', '88.57%', '82.86%', '85.71%', '85.71%', '91.43%']\n",
            "Iteration=50, losses=['0.2098', '0.3483', '0.5694', '0.2746', '0.3340', '0.2468', '0.6744', '0.6725', '0.8827', '0.9559', '0.4517', '0.4611', '0.3122'], accuracies=['94.29%', '91.43%', '85.71%', '88.57%', '94.29%', '94.29%', '88.57%', '91.43%', '88.57%', '82.86%', '85.71%', '88.57%', '91.43%']\n",
            "Iteration=60, losses=['0.1956', '0.3430', '0.5474', '0.2795', '0.3250', '0.2342', '0.6722', '0.6533', '0.8648', '0.9281', '0.4416', '0.4553', '0.3082'], accuracies=['94.29%', '91.43%', '85.71%', '88.57%', '94.29%', '97.14%', '88.57%', '91.43%', '88.57%', '82.86%', '88.57%', '91.43%', '91.43%']\n",
            "Iteration=70, losses=['0.1815', '0.3407', '0.5280', '0.2817', '0.3151', '0.2280', '0.6698', '0.6393', '0.8455', '0.9050', '0.4339', '0.4513', '0.3103'], accuracies=['97.14%', '91.43%', '85.71%', '88.57%', '94.29%', '97.14%', '88.57%', '91.43%', '88.57%', '82.86%', '88.57%', '88.57%', '91.43%']\n",
            "Iteration=80, losses=['0.1709', '0.3335', '0.5092', '0.2779', '0.3050', '0.2239', '0.6528', '0.6189', '0.8186', '0.8854', '0.4218', '0.4404', '0.3046'], accuracies=['97.14%', '91.43%', '82.86%', '88.57%', '94.29%', '97.14%', '88.57%', '91.43%', '88.57%', '82.86%', '88.57%', '88.57%', '91.43%']\n",
            "Iteration=90, losses=['0.1641', '0.3232', '0.4960', '0.2784', '0.3018', '0.2181', '0.6438', '0.6009', '0.8036', '0.8745', '0.4160', '0.4303', '0.2942'], accuracies=['97.14%', '91.43%', '82.86%', '88.57%', '97.14%', '97.14%', '88.57%', '91.43%', '88.57%', '88.57%', '88.57%', '88.57%', '91.43%']\n"
          ]
        },
        {
          "output_type": "display_data",
          "data": {
            "text/plain": [
              "<Figure size 432x288 with 1 Axes>"
            ],
            "image/png": "[encoded data removed]"
          },
          "metadata": {
            "needs_background": "light"
          }
        },
        {
          "output_type": "display_data",
          "data": {
            "text/plain": [
              "<Figure size 432x288 with 1 Axes>"
            ],
            "image/png": "[encoded data removed]"
          },
          "metadata": {
            "needs_background": "light"
          }
        },
        {
          "output_type": "stream",
          "name": "stdout",
          "text": [
            "\n",
            "Testing Accuracy = 90.35%\n"
          ]
        }
      ]
    },
    {
      "cell_type": "markdown",
      "source": [
        "We again divide the datatset into 13 parts and send each part to a different hospital for the FedProx Algorithm  "
      ],
      "metadata": {
        "id": "_D_WdecpMYMb"
      }
    },
    {
      "cell_type": "code",
      "source": [
        "n_samples = train_data.shape[0]\n",
        "samples_per_hospital = int((n_samples + 0.5) / n_hospitals)\n",
        "hospital_features = []\n",
        "hospital_targets = []\n",
        "train_data = th.tensor(train_data, dtype = torch.float32, requires_grad=True)\n",
        "for i in range(n_hospitals):\n",
        "    train_data2 = train_data[i * samples_per_hospital:(i + 1) * samples_per_hospital].clone().detach().requires_grad_(True)\n",
        "    features = train_data2[:, 1:31].clone().detach().requires_grad_(True)\n",
        "    targets = train_data2[:, 0][:, None].clone().detach()\n",
        "    hospital_features.append(features.send(hospitals[i]))\n",
        "    hospital_targets.append(targets.send(hospitals[i]))\n",
        "\n",
        "print(model)"
      ],
      "metadata": {
        "colab": {
          "base_uri": "https://localhost:8080/"
        },
        "id": "j7ZK412T7bgw",
        "outputId": "20db4a52-2f44-4935-a3f8-40e61bc69803"
      },
      "execution_count": null,
      "outputs": [
        {
          "output_type": "stream",
          "name": "stdout",
          "text": [
            "Model(\n",
            "  (linear1): Linear(in_features=30, out_features=100, bias=True)\n",
            "  (activation): ReLU()\n",
            "  (linear2): Linear(in_features=100, out_features=1, bias=True)\n",
            ")\n"
          ]
        }
      ]
    },
    {
      "cell_type": "markdown",
      "source": [
        "We have used FedProx Algorithm with the same dataset but without any systems hetrogeneity\n",
        "\n",
        "![Screenshot from 2022-04-24 16-05-32.png](data:image/png;base64,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)"
      ],
      "metadata": {
        "id": "XWPtTAhLMtM9"
      }
    },
    {
      "cell_type": "code",
      "source": [
        "def plot_federated_graphs(diagnosis_title, losses, accuracies):\n",
        "    for i in range(n_hospitals):\n",
        "        plt.plot(losses[i], label=f'Hospital {i}')\n",
        "    legend = plt.legend(loc='upper right', shadow=True)\n",
        "    plt.title(f\"{diagnosis_title} - Training Loss\")\n",
        "    plt.xlabel(\"Iterations\")\n",
        "    plt.ylabel(\"Training Loss\")\n",
        "    plt.show()\n",
        "    for i in range(n_hospitals):\n",
        "        plt.plot(accuracies[i], label=f'Hospital {i}')\n",
        "    legend = plt.legend(loc='lower right', shadow=True)\n",
        "    plt.title(f\"{diagnosis_title} - Training Accuracy\")\n",
        "    plt.xlabel(\"Iterations\")\n",
        "    plt.ylabel(\"Training Accuracy (Percent %)\")\n",
        "    plt.show()\n",
        "\n",
        "def compute_federated_accuracy(model, input, output):\n",
        "    prediction = model(input)\n",
        "    n_samples = prediction.shape[0]\n",
        "    s = 0.\n",
        "    for i in range(n_samples):\n",
        "        p = 1. if prediction[i] >= 0.5 else 0.\n",
        "        e = 1. if p == output[i] else 0.\n",
        "        s += e\n",
        "    return 100. * s / n_samples\n",
        "\n",
        "iterations = 100 #2000\n",
        "worker_iterations = 5\n",
        "\n",
        "def difference_models_norm_2(model_1, model_2):\n",
        "    \"\"\"Return the norm 2 difference between the two model parameters\n",
        "    \"\"\"\n",
        "\n",
        "    tensor_1=list(model_1.parameters())\n",
        "    tensor_2=list(model_2.parameters())\n",
        "\n",
        "    norm=sum([torch.sum((tensor_1[i]-tensor_2[i])**2)\n",
        "        for i in range(len(tensor_1))])\n",
        "\n",
        "    return norm\n",
        "\n",
        "def federated_learning_with_fedprox(diagnosis_title, hospital_features, hospital_targets, test_input, test_output, mu):\n",
        "    model = Model()\n",
        "    criterion = torch.nn.BCELoss(size_average=True)\n",
        "    optimizer = torch.optim.Adam(model.parameters(), lr=learning_rate)\n",
        "    losses = [[] for i in range(n_hospitals)]\n",
        "    accuracies = [[] for i in range(n_hospitals)]\n",
        "    for iteration in range(iterations):\n",
        "        models = [model.copy().send(hospitals[i]) for i in range(n_hospitals)]\n",
        "        models_0 = [model.copy().send(hospitals[i]) for i in range(n_hospitals)]\n",
        "        optimizers = [torch.optim.Adam(params = models[i].parameters(), lr = learning_rate) for i in range(n_hospitals)]\n",
        "        for worker_iteration in range(worker_iterations):\n",
        "            last_losses = []\n",
        "            for i in range(n_hospitals):\n",
        "                optimizers[i].zero_grad()\n",
        "                prediction = models[i](hospital_features[i])\n",
        "                loss = criterion(prediction, hospital_targets[i])\n",
        "                loss += mu/2*difference_models_norm_2(models[i],models_0[i])\n",
        "                loss.backward()\n",
        "                optimizers[i].step()\n",
        "                loss = loss.get().data.item()\n",
        "                last_losses.append(loss)\n",
        "        for i in range(n_hospitals):\n",
        "            losses[i].append(last_losses[i])\n",
        "            train_acc = compute_federated_accuracy(models[i], hospital_features[i], hospital_targets[i])\n",
        "            accuracies[i].append(train_acc)\n",
        "            models[i].move(secure_worker)\n",
        "        with th.no_grad():\n",
        "            avg_weight = sum([models[i].linear1.weight.data for i in range(n_hospitals)]) / n_hospitals\n",
        "            model.linear1.weight.set_(avg_weight.get())\n",
        "            avg_bias = sum([models[i].linear1.bias.data for i in range(n_hospitals)]) / n_hospitals\n",
        "            model.linear1.bias.set_(avg_bias.get())\n",
        "            avg_weight = sum([models[i].linear2.weight.data for i in range(n_hospitals)]) / n_hospitals\n",
        "            model.linear2.weight.set_(avg_weight.get())\n",
        "            avg_bias = sum([models[i].linear2.bias.data for i in range(n_hospitals)]) / n_hospitals\n",
        "            model.linear2.bias.set_(avg_bias.get())\n",
        "\n",
        "        if iteration % 10 == 0:\n",
        "            losses_str = ['{:.4f}'.format(losses[i][-1]) for i in range(n_hospitals)]\n",
        "            accuracies_str = [to_percent(accuracies[i][-1]) for i in range(n_hospitals)]\n",
        "            print('Iteration={}, losses={}, accuracies={}'.format(iteration, losses_str, accuracies_str))\n",
        "    plot_federated_graphs(diagnosis_title, losses, accuracies)\n",
        "    test_acc = compute_accuracy(model, test_input, test_output)\n",
        "    print('\\nTesting Accuracy = {}'.format(to_percent(test_acc)))\n",
        "    return model\n"
      ],
      "metadata": {
        "id": "fzcj64b_7f3T"
      },
      "execution_count": null,
      "outputs": []
    },
    {
      "cell_type": "code",
      "source": [
        "model = federated_learning_with_fedprox(diagnosis_title, hospital_features, hospital_targets, test_input, test_output, mu = 0.3)"
      ],
      "metadata": {
        "colab": {
          "base_uri": "https://localhost:8080/",
          "height": 801
        },
        "id": "iJSAngh28o4O",
        "outputId": "15f0c8f5-57eb-4c80-e30e-c48f2b4502b6"
      },
      "execution_count": null,
      "outputs": [
        {
          "output_type": "stream",
          "name": "stdout",
          "text": [
            "Iteration=0, losses=['17.2835', '6.8167', '14.5981', '29.2753', '24.0273', '14.1034', '19.1995', '19.2814', '14.3955', '15.8752', '13.0003', '17.1122', '15.0563'], accuracies=['57.14%', '80.00%', '57.14%', '48.57%', '54.29%', '71.43%', '62.86%', '68.57%', '71.43%', '65.71%', '74.29%', '60.00%', '60.00%']\n",
            "Iteration=10, losses=['0.6974', '0.3222', '1.9928', '1.0761', '0.5740', '0.2237', '0.7090', '0.5138', '0.5983', '0.6349', '0.3002', '1.2908', '0.2657'], accuracies=['82.86%', '91.43%', '62.86%', '74.29%', '82.86%', '85.71%', '68.57%', '68.57%', '77.14%', '77.14%', '80.00%', '68.57%', '80.00%']\n",
            "Iteration=20, losses=['0.5137', '0.3242', '1.3813', '0.9751', '0.4742', '0.1543', '0.5837', '0.4964', '0.8072', '0.4935', '0.3337', '0.8076', '0.1142'], accuracies=['88.57%', '97.14%', '62.86%', '80.00%', '91.43%', '91.43%', '74.29%', '77.14%', '82.86%', '82.86%', '77.14%', '77.14%', '80.00%']\n",
            "Iteration=30, losses=['0.4147', '0.2473', '1.3979', '0.9268', '0.4109', '0.1369', '0.5560', '0.4554', '0.8087', '0.4574', '0.3575', '0.7153', '0.0875'], accuracies=['91.43%', '91.43%', '62.86%', '80.00%', '91.43%', '91.43%', '74.29%', '82.86%', '82.86%', '82.86%', '77.14%', '80.00%', '80.00%']\n",
            "Iteration=40, losses=['0.3212', '0.1780', '1.2370', '0.8889', '0.3924', '0.1213', '0.5471', '0.4314', '0.7620', '0.4297', '0.3686', '0.6476', '0.0849'], accuracies=['91.43%', '82.86%', '71.43%', '80.00%', '94.29%', '94.29%', '74.29%', '82.86%', '82.86%', '85.71%', '80.00%', '80.00%', '80.00%']\n",
            "Iteration=50, losses=['0.2845', '0.1604', '1.2439', '0.8638', '0.3953', '0.1053', '0.5436', '0.4298', '0.7031', '0.4184', '0.3833', '0.5780', '0.0887'], accuracies=['94.29%', '80.00%', '71.43%', '82.86%', '94.29%', '97.14%', '74.29%', '82.86%', '82.86%', '85.71%', '82.86%', '82.86%', '80.00%']\n",
            "Iteration=60, losses=['0.2645', '0.1920', '1.0612', '0.8552', '0.3881', '0.0955', '0.5237', '0.4368', '0.6397', '0.4110', '0.3920', '0.5422', '0.0829'], accuracies=['94.29%', '82.86%', '77.14%', '82.86%', '94.29%', '97.14%', '80.00%', '82.86%', '85.71%', '82.86%', '85.71%', '82.86%', '80.00%']\n",
            "Iteration=70, losses=['0.2414', '0.2028', '1.0526', '0.8322', '0.3675', '0.0842', '0.4919', '0.4031', '0.5906', '0.4083', '0.3892', '0.5072', '0.0814'], accuracies=['94.29%', '82.86%', '80.00%', '82.86%', '94.29%', '97.14%', '80.00%', '85.71%', '80.00%', '85.71%', '85.71%', '85.71%', '82.86%']\n",
            "Iteration=80, losses=['0.2217', '0.2225', '1.0328', '0.8128', '0.3605', '0.0699', '0.4686', '0.3794', '0.5444', '0.4079', '0.3708', '0.4739', '0.0818'], accuracies=['94.29%', '82.86%', '80.00%', '82.86%', '94.29%', '97.14%', '82.86%', '85.71%', '80.00%', '82.86%', '85.71%', '85.71%', '82.86%']\n",
            "Iteration=90, losses=['0.2040', '0.3285', '1.0168', '0.8033', '0.3449', '0.0507', '0.4613', '0.3795', '0.4983', '0.4079', '0.3624', '0.4580', '0.0774'], accuracies=['97.14%', '85.71%', '85.71%', '82.86%', '94.29%', '97.14%', '82.86%', '85.71%', '80.00%', '82.86%', '88.57%', '85.71%', '82.86%']\n"
          ]
        },
        {
          "output_type": "display_data",
          "data": {
            "text/plain": [
              "<Figure size 432x288 with 1 Axes>"
            ],
            "image/png": "[encoded data removed]"
          },
          "metadata": {
            "needs_background": "light"
          }
        },
        {
          "output_type": "display_data",
          "data": {
            "text/plain": [
              "<Figure size 432x288 with 1 Axes>"
            ],
            "image/png": "[encoded data removed]"
          },
          "metadata": {
            "needs_background": "light"
          }
        },
        {
          "output_type": "stream",
          "name": "stdout",
          "text": [
            "\n",
            "Testing Accuracy = 89.47%\n"
          ]
        }
      ]
    },
    {
      "cell_type": "markdown",
      "source": [
        "We again divide the datatset into 13 parts and send each part to a different hospital for the FedProx Algorithm  "
      ],
      "metadata": {
        "id": "KAqqWXsxNK8e"
      }
    },
    {
      "cell_type": "code",
      "source": [
        "n_samples = train_data.shape[0]\n",
        "samples_per_hospital = int((n_samples + 0.5) / n_hospitals)\n",
        "hospital_features = []\n",
        "hospital_targets = []\n",
        "train_data = th.tensor(train_data, dtype = torch.float32, requires_grad=True)\n",
        "for i in range(n_hospitals):\n",
        "    train_data2 = train_data[i * samples_per_hospital:(i + 1) * samples_per_hospital].clone().detach().requires_grad_(True)\n",
        "    features = train_data2[:, 1:31].clone().detach().requires_grad_(True)\n",
        "    targets = train_data2[:, 0][:, None].clone().detach()\n",
        "    hospital_features.append(features.send(hospitals[i]))\n",
        "    hospital_targets.append(targets.send(hospitals[i]))\n",
        "\n",
        "print(model)"
      ],
      "metadata": {
        "colab": {
          "base_uri": "https://localhost:8080/"
        },
        "id": "SfXxokbcJG1N",
        "outputId": "04987c35-7d9f-4bc6-e574-af01d3d672cb"
      },
      "execution_count": null,
      "outputs": [
        {
          "output_type": "stream",
          "name": "stdout",
          "text": [
            "Model(\n",
            "  (linear1): Linear(in_features=30, out_features=100, bias=True)\n",
            "  (activation): ReLU()\n",
            "  (linear2): Linear(in_features=100, out_features=1, bias=True)\n",
            ")\n"
          ]
        }
      ]
    },
    {
      "cell_type": "markdown",
      "source": [
        "We have used FedProx Algorithm with the same dataset but with systems hetrogeneity where each hospitals performs variable number of local epochs (depending on hospital's system capibility) before aggregation.  \n",
        "\n",
        "![Screenshot from 2022-04-24 16-05-32.png](data:image/png;base64,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)"
      ],
      "metadata": {
        "id": "Mcq3__0vNMM7"
      }
    },
    {
      "cell_type": "code",
      "source": [
        "def plot_federated_graphs(diagnosis_title, losses, accuracies):\n",
        "    for i in range(n_hospitals):\n",
        "        plt.plot(losses[i], label=f'Hospital {i}')\n",
        "    legend = plt.legend(loc='upper right', shadow=True)\n",
        "    plt.title(f\"{diagnosis_title} - Training Loss\")\n",
        "    plt.xlabel(\"Iterations\")\n",
        "    plt.ylabel(\"Training Loss\")\n",
        "    plt.show()\n",
        "    for i in range(n_hospitals):\n",
        "        plt.plot(accuracies[i], label=f'Hospital {i}')\n",
        "    legend = plt.legend(loc='lower right', shadow=True)\n",
        "    plt.title(f\"{diagnosis_title} - Training Accuracy\")\n",
        "    plt.xlabel(\"Iterations\")\n",
        "    plt.ylabel(\"Training Accuracy (Percent %)\")\n",
        "    plt.show()\n",
        "\n",
        "def compute_federated_accuracy(model, input, output):\n",
        "    prediction = model(input)\n",
        "    n_samples = prediction.shape[0]\n",
        "    s = 0.\n",
        "    for i in range(n_samples):\n",
        "        p = 1. if prediction[i] >= 0.5 else 0.\n",
        "        e = 1. if p == output[i] else 0.\n",
        "        s += e\n",
        "    return 100. * s / n_samples\n",
        "\n",
        "iterations = 100 #2000\n",
        "worker_iterations = [5,3,4,3,2,5,5,1,3,3,4,2,1]\n",
        "\n",
        "def difference_models_norm_2(model_1, model_2):\n",
        "    \"\"\"Return the norm 2 difference between the two model parameters\n",
        "    \"\"\"\n",
        "\n",
        "    tensor_1=list(model_1.parameters())\n",
        "    tensor_2=list(model_2.parameters())\n",
        "\n",
        "    norm=sum([torch.sum((tensor_1[i]-tensor_2[i])**2)\n",
        "        for i in range(len(tensor_1))])\n",
        "\n",
        "    return norm\n",
        "\n",
        "def federated_learning_with_fedprox(diagnosis_title, hospital_features, hospital_targets, test_input, test_output, mu):\n",
        "    model = Model()\n",
        "    criterion = torch.nn.BCELoss(size_average=True)\n",
        "    optimizer = torch.optim.Adam(model.parameters(), lr=learning_rate)\n",
        "    losses = [[] for i in range(n_hospitals)]\n",
        "    accuracies = [[] for i in range(n_hospitals)]\n",
        "    for iteration in range(iterations):\n",
        "        models = [model.copy().send(hospitals[i]) for i in range(n_hospitals)]\n",
        "        models_0 = [model.copy().send(hospitals[i]) for i in range(n_hospitals)]\n",
        "        optimizers = [torch.optim.Adam(params = models[i].parameters(), lr = learning_rate) for i in range(n_hospitals)]\n",
        "        last_losses = []\n",
        "        for i in range(len(worker_iterations)):\n",
        "            for j in range(worker_iterations[i]):\n",
        "                  optimizers[i].zero_grad()\n",
        "                  prediction = models[i](hospital_features[i])\n",
        "                  loss = criterion(prediction, hospital_targets[i])\n",
        "                  loss += mu/2*difference_models_norm_2(models[i],models_0[i])\n",
        "                  loss.backward()\n",
        "                  optimizers[i].step()\n",
        "                  if j == (worker_iterations[i]-1):\n",
        "                    loss = loss.get().data.item()\n",
        "                    last_losses.append(loss)\n",
        "        for i in range(n_hospitals):\n",
        "            losses[i].append(last_losses[i])\n",
        "            train_acc = compute_federated_accuracy(models[i], hospital_features[i], hospital_targets[i])\n",
        "            accuracies[i].append(train_acc)\n",
        "            models[i].move(secure_worker)\n",
        "        with th.no_grad():\n",
        "            avg_weight = sum([models[i].linear1.weight.data for i in range(n_hospitals)]) / n_hospitals\n",
        "            model.linear1.weight.set_(avg_weight.get())\n",
        "            avg_bias = sum([models[i].linear1.bias.data for i in range(n_hospitals)]) / n_hospitals\n",
        "            model.linear1.bias.set_(avg_bias.get())\n",
        "            avg_weight = sum([models[i].linear2.weight.data for i in range(n_hospitals)]) / n_hospitals\n",
        "            model.linear2.weight.set_(avg_weight.get())\n",
        "            avg_bias = sum([models[i].linear2.bias.data for i in range(n_hospitals)]) / n_hospitals\n",
        "            model.linear2.bias.set_(avg_bias.get())\n",
        "\n",
        "        if iteration % 10 == 0:\n",
        "            losses_str = ['{:.4f}'.format(losses[i][-1]) for i in range(n_hospitals)]\n",
        "            accuracies_str = [to_percent(accuracies[i][-1]) for i in range(n_hospitals)]\n",
        "            print('Iteration={}, losses={}, accuracies={}'.format(iteration, losses_str, accuracies_str))\n",
        "    plot_federated_graphs(diagnosis_title, losses, accuracies)\n",
        "    test_acc = compute_accuracy(model, test_input, test_output)\n",
        "    print('\\nTesting Accuracy = {}'.format(to_percent(test_acc)))\n",
        "    return model\n"
      ],
      "metadata": {
        "id": "RCwqHR1qJLLs"
      },
      "execution_count": null,
      "outputs": []
    },
    {
      "cell_type": "code",
      "source": [
        "model = federated_learning_with_fedprox(diagnosis_title, hospital_features, hospital_targets, test_input, test_output, mu = 0.3)"
      ],
      "metadata": {
        "colab": {
          "base_uri": "https://localhost:8080/",
          "height": 801
        },
        "id": "bh2Ofo0pWLoe",
        "outputId": "63404890-1ccf-46f7-c84b-a7023e61c602"
      },
      "execution_count": null,
      "outputs": [
        {
          "output_type": "stream",
          "name": "stdout",
          "text": [
            "Iteration=0, losses=['0.7223', '6.9478', '1.9581', '5.2774', '11.0758', '0.9452', '0.5456', '21.9904', '4.9850', '6.4024', '2.1189', '14.3756', '12.1327'], accuracies=['42.86%', '62.86%', '65.71%', '74.29%', '65.71%', '40.00%', '40.00%', '54.29%', '80.00%', '77.14%', '77.14%', '54.29%', '71.43%']\n",
            "Iteration=10, losses=['1.9145', '0.3905', '0.9871', '0.8037', '2.6303', '1.2345', '1.3780', '1.3897', '0.4501', '0.3016', '1.1452', '2.3926', '0.3750'], accuracies=['80.00%', '71.43%', '48.57%', '54.29%', '91.43%', '65.71%', '68.57%', '60.00%', '60.00%', '85.71%', '77.14%', '68.57%', '80.00%']\n",
            "Iteration=20, losses=['1.2520', '0.3692', '0.5791', '0.8604', '1.6709', '1.2436', '1.2221', '1.2902', '0.3884', '0.2433', '0.5246', '1.6571', '0.2334'], accuracies=['80.00%', '80.00%', '74.29%', '88.57%', '97.14%', '77.14%', '88.57%', '54.29%', '88.57%', '77.14%', '80.00%', '71.43%', '48.57%']\n",
            "Iteration=30, losses=['1.0327', '0.3339', '0.4355', '0.7727', '2.2047', '1.3095', '1.1612', '1.1408', '0.2900', '0.1992', '0.4243', '1.3454', '0.1938'], accuracies=['82.86%', '88.57%', '77.14%', '85.71%', '82.86%', '77.14%', '88.57%', '65.71%', '85.71%', '85.71%', '80.00%', '77.14%', '45.71%']\n",
            "Iteration=40, losses=['1.2600', '0.3360', '0.5353', '0.7703', '2.3680', '1.4452', '1.3974', '0.8949', '0.2863', '0.2504', '0.5412', '1.4670', '0.2075'], accuracies=['82.86%', '88.57%', '77.14%', '85.71%', '85.71%', '77.14%', '71.43%', '62.86%', '85.71%', '82.86%', '80.00%', '77.14%', '74.29%']\n",
            "Iteration=50, losses=['1.2078', '0.3296', '0.5253', '0.7525', '2.3006', '1.4169', '1.3515', '0.7691', '0.2678', '0.2195', '0.5582', '1.4251', '0.2167'], accuracies=['82.86%', '88.57%', '77.14%', '85.71%', '85.71%', '77.14%', '71.43%', '65.71%', '85.71%', '85.71%', '80.00%', '85.71%', '77.14%']\n",
            "Iteration=60, losses=['0.8939', '0.2959', '0.3709', '0.7163', '1.7731', '1.1464', '1.0273', '0.8270', '0.1828', '0.1828', '0.4121', '1.0395', '0.1792'], accuracies=['85.71%', '88.57%', '82.86%', '85.71%', '85.71%', '80.00%', '88.57%', '71.43%', '85.71%', '85.71%', '80.00%', '80.00%', '88.57%']\n",
            "Iteration=70, losses=['0.7745', '0.2841', '0.3046', '0.6962', '1.5364', '1.0399', '0.8775', '0.8032', '0.1496', '0.1619', '0.3674', '0.8806', '0.1787'], accuracies=['85.71%', '88.57%', '82.86%', '85.71%', '88.57%', '80.00%', '88.57%', '74.29%', '88.57%', '85.71%', '82.86%', '80.00%', '57.14%']\n",
            "Iteration=80, losses=['0.7691', '0.2782', '0.3055', '0.6819', '1.4961', '1.0283', '0.8519', '0.7119', '0.1390', '0.1573', '0.3718', '0.8589', '0.1738'], accuracies=['85.71%', '88.57%', '82.86%', '85.71%', '88.57%', '80.00%', '88.57%', '77.14%', '94.29%', '85.71%', '85.71%', '85.71%', '57.14%']\n",
            "Iteration=90, losses=['0.9707', '0.2948', '0.4638', '0.6803', '2.0212', '1.2854', '1.2080', '0.4170', '0.2097', '0.1591', '0.5437', '1.2552', '0.2338'], accuracies=['85.71%', '88.57%', '80.00%', '85.71%', '88.57%', '77.14%', '82.86%', '68.57%', '91.43%', '88.57%', '82.86%', '85.71%', '80.00%']\n"
          ]
        },
        {
          "output_type": "display_data",
          "data": {
            "text/plain": [
              "<Figure size 432x288 with 1 Axes>"
            ],
            "image/png": "[encoded data removed]"
          },
          "metadata": {
            "needs_background": "light"
          }
        },
        {
          "output_type": "display_data",
          "data": {
            "text/plain": [
              "<Figure size 432x288 with 1 Axes>"
            ],
            "image/png": "[encoded data removed]"
          },
          "metadata": {
            "needs_background": "light"
          }
        },
        {
          "output_type": "stream",
          "name": "stdout",
          "text": [
            "\n",
            "Testing Accuracy = 91.23%\n"
          ]
        }
      ]
    },
    {
      "cell_type": "markdown",
      "source": [
        "The learning curves **Training Losses versus Iterations** and **Training Accuracies versus Iterations** have 13 colors for all 13 hospitals."
      ],
      "metadata": {
        "id": "DCBS3AChl6OU"
      }
    },
    {
      "cell_type": "code",
      "source": [],
      "metadata": {
        "id": "ywb6ZVlOSwg1"
      },
      "execution_count": null,
      "outputs": []
    }
  ]
}